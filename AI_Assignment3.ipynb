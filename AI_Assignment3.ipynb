{
  "nbformat": 4,
  "nbformat_minor": 0,
  "metadata": {
    "colab": {
      "name": "AI_Assignment3.ipynb",
      "provenance": [],
      "collapsed_sections": []
    },
    "kernelspec": {
      "display_name": "Python 3",
      "name": "python3"
    },
    "language_info": {
      "name": "python"
    }
  },
  "cells": [
    {
      "cell_type": "code",
      "metadata": {
        "id": "E0A6wjd-zoNP"
      },
      "source": [
        "# import required libraries\n",
        "import pandas as pd\n",
        "import numpy as np\n",
        "from sklearn.preprocessing import StandardScaler\n",
        "import matplotlib.pyplot as plt\n",
        "from keras.models import Sequential\n",
        "from keras.layers import Input,Dense\n",
        "from tensorflow import keras\n",
        "from keras import regularizers\n",
        "from keras.models import Model, load_model\n",
        "from sklearn.metrics import confusion_matrix, precision_recall_curve\n",
        "from sklearn.metrics import recall_score, classification_report, auc, roc_curve"
      ],
      "execution_count": 59,
      "outputs": []
    },
    {
      "cell_type": "code",
      "metadata": {
        "colab": {
          "base_uri": "https://localhost:8080/"
        },
        "id": "sMz1P_n6zywY",
        "outputId": "af6b097e-06d1-4fb5-96c8-b3d3aff36a5a"
      },
      "source": [
        "from google.colab import drive\n",
        "drive.mount('/content/drive')\n",
        "data = pd.read_csv('/content/drive/My Drive/FYP_CCFraudDetection/FYP Design/Datasets/creditcard.csv')\n",
        "data_kfold = data"
      ],
      "execution_count": 60,
      "outputs": [
        {
          "output_type": "stream",
          "text": [
            "Drive already mounted at /content/drive; to attempt to forcibly remount, call drive.mount(\"/content/drive\", force_remount=True).\n"
          ],
          "name": "stdout"
        }
      ]
    },
    {
      "cell_type": "markdown",
      "metadata": {
        "id": "jGXxi_D3wMNk"
      },
      "source": [
        "\n",
        "\n",
        "```\n",
        "`# This is formatted as code`\n",
        "```\n",
        "\n",
        "**The datasets contains transactions made by credit cards in September 2013 by \n",
        "european cardholders. This dataset presents transactions that occurred in two days, where we have 492 frauds out of 284,807 transactions. The dataset is highly unbalanced, the positive class (frauds) account for 0.172% of all transactions. The dataset contains data that is already normalised. The columns names are hidden under an alias that starts from V1 to V28. This is to maintain the confidentiality of the transactions performed. There are 2 columns that have not being normalised. The time column and the amount the transaction was normalised and are the only columns that contain the raw data from the transaction. The time column contains the amount between the first transaction and itself in seconds. The other column not normalised is the column called class. The Class column contains 2 values of 1 and 0 and these represent if the transaction was fraudulent or not.**"
      ]
    },
    {
      "cell_type": "markdown",
      "metadata": {
        "id": "gya57Rkp4slx"
      },
      "source": [
        "**Data Exploration**"
      ]
    },
    {
      "cell_type": "code",
      "metadata": {
        "colab": {
          "base_uri": "https://localhost:8080/",
          "height": 989
        },
        "id": "Tlk33MoozyuE",
        "outputId": "b1fbd159-62b6-4483-eaab-d3d62e77050c"
      },
      "source": [
        "data.head(30)"
      ],
      "execution_count": 61,
      "outputs": [
        {
          "output_type": "execute_result",
          "data": {
            "text/html": [
              "<div>\n",
              "<style scoped>\n",
              "    .dataframe tbody tr th:only-of-type {\n",
              "        vertical-align: middle;\n",
              "    }\n",
              "\n",
              "    .dataframe tbody tr th {\n",
              "        vertical-align: top;\n",
              "    }\n",
              "\n",
              "    .dataframe thead th {\n",
              "        text-align: right;\n",
              "    }\n",
              "</style>\n",
              "<table border=\"1\" class=\"dataframe\">\n",
              "  <thead>\n",
              "    <tr style=\"text-align: right;\">\n",
              "      <th></th>\n",
              "      <th>Time</th>\n",
              "      <th>V1</th>\n",
              "      <th>V2</th>\n",
              "      <th>V3</th>\n",
              "      <th>V4</th>\n",
              "      <th>V5</th>\n",
              "      <th>V6</th>\n",
              "      <th>V7</th>\n",
              "      <th>V8</th>\n",
              "      <th>V9</th>\n",
              "      <th>V10</th>\n",
              "      <th>V11</th>\n",
              "      <th>V12</th>\n",
              "      <th>V13</th>\n",
              "      <th>V14</th>\n",
              "      <th>V15</th>\n",
              "      <th>V16</th>\n",
              "      <th>V17</th>\n",
              "      <th>V18</th>\n",
              "      <th>V19</th>\n",
              "      <th>V20</th>\n",
              "      <th>V21</th>\n",
              "      <th>V22</th>\n",
              "      <th>V23</th>\n",
              "      <th>V24</th>\n",
              "      <th>V25</th>\n",
              "      <th>V26</th>\n",
              "      <th>V27</th>\n",
              "      <th>V28</th>\n",
              "      <th>Amount</th>\n",
              "      <th>Class</th>\n",
              "    </tr>\n",
              "  </thead>\n",
              "  <tbody>\n",
              "    <tr>\n",
              "      <th>0</th>\n",
              "      <td>0.0</td>\n",
              "      <td>-1.359807</td>\n",
              "      <td>-0.072781</td>\n",
              "      <td>2.536347</td>\n",
              "      <td>1.378155</td>\n",
              "      <td>-0.338321</td>\n",
              "      <td>0.462388</td>\n",
              "      <td>0.239599</td>\n",
              "      <td>0.098698</td>\n",
              "      <td>0.363787</td>\n",
              "      <td>0.090794</td>\n",
              "      <td>-0.551600</td>\n",
              "      <td>-0.617801</td>\n",
              "      <td>-0.991390</td>\n",
              "      <td>-0.311169</td>\n",
              "      <td>1.468177</td>\n",
              "      <td>-0.470401</td>\n",
              "      <td>0.207971</td>\n",
              "      <td>0.025791</td>\n",
              "      <td>0.403993</td>\n",
              "      <td>0.251412</td>\n",
              "      <td>-0.018307</td>\n",
              "      <td>0.277838</td>\n",
              "      <td>-0.110474</td>\n",
              "      <td>0.066928</td>\n",
              "      <td>0.128539</td>\n",
              "      <td>-0.189115</td>\n",
              "      <td>0.133558</td>\n",
              "      <td>-0.021053</td>\n",
              "      <td>149.62</td>\n",
              "      <td>0</td>\n",
              "    </tr>\n",
              "    <tr>\n",
              "      <th>1</th>\n",
              "      <td>0.0</td>\n",
              "      <td>1.191857</td>\n",
              "      <td>0.266151</td>\n",
              "      <td>0.166480</td>\n",
              "      <td>0.448154</td>\n",
              "      <td>0.060018</td>\n",
              "      <td>-0.082361</td>\n",
              "      <td>-0.078803</td>\n",
              "      <td>0.085102</td>\n",
              "      <td>-0.255425</td>\n",
              "      <td>-0.166974</td>\n",
              "      <td>1.612727</td>\n",
              "      <td>1.065235</td>\n",
              "      <td>0.489095</td>\n",
              "      <td>-0.143772</td>\n",
              "      <td>0.635558</td>\n",
              "      <td>0.463917</td>\n",
              "      <td>-0.114805</td>\n",
              "      <td>-0.183361</td>\n",
              "      <td>-0.145783</td>\n",
              "      <td>-0.069083</td>\n",
              "      <td>-0.225775</td>\n",
              "      <td>-0.638672</td>\n",
              "      <td>0.101288</td>\n",
              "      <td>-0.339846</td>\n",
              "      <td>0.167170</td>\n",
              "      <td>0.125895</td>\n",
              "      <td>-0.008983</td>\n",
              "      <td>0.014724</td>\n",
              "      <td>2.69</td>\n",
              "      <td>0</td>\n",
              "    </tr>\n",
              "    <tr>\n",
              "      <th>2</th>\n",
              "      <td>1.0</td>\n",
              "      <td>-1.358354</td>\n",
              "      <td>-1.340163</td>\n",
              "      <td>1.773209</td>\n",
              "      <td>0.379780</td>\n",
              "      <td>-0.503198</td>\n",
              "      <td>1.800499</td>\n",
              "      <td>0.791461</td>\n",
              "      <td>0.247676</td>\n",
              "      <td>-1.514654</td>\n",
              "      <td>0.207643</td>\n",
              "      <td>0.624501</td>\n",
              "      <td>0.066084</td>\n",
              "      <td>0.717293</td>\n",
              "      <td>-0.165946</td>\n",
              "      <td>2.345865</td>\n",
              "      <td>-2.890083</td>\n",
              "      <td>1.109969</td>\n",
              "      <td>-0.121359</td>\n",
              "      <td>-2.261857</td>\n",
              "      <td>0.524980</td>\n",
              "      <td>0.247998</td>\n",
              "      <td>0.771679</td>\n",
              "      <td>0.909412</td>\n",
              "      <td>-0.689281</td>\n",
              "      <td>-0.327642</td>\n",
              "      <td>-0.139097</td>\n",
              "      <td>-0.055353</td>\n",
              "      <td>-0.059752</td>\n",
              "      <td>378.66</td>\n",
              "      <td>0</td>\n",
              "    </tr>\n",
              "    <tr>\n",
              "      <th>3</th>\n",
              "      <td>1.0</td>\n",
              "      <td>-0.966272</td>\n",
              "      <td>-0.185226</td>\n",
              "      <td>1.792993</td>\n",
              "      <td>-0.863291</td>\n",
              "      <td>-0.010309</td>\n",
              "      <td>1.247203</td>\n",
              "      <td>0.237609</td>\n",
              "      <td>0.377436</td>\n",
              "      <td>-1.387024</td>\n",
              "      <td>-0.054952</td>\n",
              "      <td>-0.226487</td>\n",
              "      <td>0.178228</td>\n",
              "      <td>0.507757</td>\n",
              "      <td>-0.287924</td>\n",
              "      <td>-0.631418</td>\n",
              "      <td>-1.059647</td>\n",
              "      <td>-0.684093</td>\n",
              "      <td>1.965775</td>\n",
              "      <td>-1.232622</td>\n",
              "      <td>-0.208038</td>\n",
              "      <td>-0.108300</td>\n",
              "      <td>0.005274</td>\n",
              "      <td>-0.190321</td>\n",
              "      <td>-1.175575</td>\n",
              "      <td>0.647376</td>\n",
              "      <td>-0.221929</td>\n",
              "      <td>0.062723</td>\n",
              "      <td>0.061458</td>\n",
              "      <td>123.50</td>\n",
              "      <td>0</td>\n",
              "    </tr>\n",
              "    <tr>\n",
              "      <th>4</th>\n",
              "      <td>2.0</td>\n",
              "      <td>-1.158233</td>\n",
              "      <td>0.877737</td>\n",
              "      <td>1.548718</td>\n",
              "      <td>0.403034</td>\n",
              "      <td>-0.407193</td>\n",
              "      <td>0.095921</td>\n",
              "      <td>0.592941</td>\n",
              "      <td>-0.270533</td>\n",
              "      <td>0.817739</td>\n",
              "      <td>0.753074</td>\n",
              "      <td>-0.822843</td>\n",
              "      <td>0.538196</td>\n",
              "      <td>1.345852</td>\n",
              "      <td>-1.119670</td>\n",
              "      <td>0.175121</td>\n",
              "      <td>-0.451449</td>\n",
              "      <td>-0.237033</td>\n",
              "      <td>-0.038195</td>\n",
              "      <td>0.803487</td>\n",
              "      <td>0.408542</td>\n",
              "      <td>-0.009431</td>\n",
              "      <td>0.798278</td>\n",
              "      <td>-0.137458</td>\n",
              "      <td>0.141267</td>\n",
              "      <td>-0.206010</td>\n",
              "      <td>0.502292</td>\n",
              "      <td>0.219422</td>\n",
              "      <td>0.215153</td>\n",
              "      <td>69.99</td>\n",
              "      <td>0</td>\n",
              "    </tr>\n",
              "    <tr>\n",
              "      <th>5</th>\n",
              "      <td>2.0</td>\n",
              "      <td>-0.425966</td>\n",
              "      <td>0.960523</td>\n",
              "      <td>1.141109</td>\n",
              "      <td>-0.168252</td>\n",
              "      <td>0.420987</td>\n",
              "      <td>-0.029728</td>\n",
              "      <td>0.476201</td>\n",
              "      <td>0.260314</td>\n",
              "      <td>-0.568671</td>\n",
              "      <td>-0.371407</td>\n",
              "      <td>1.341262</td>\n",
              "      <td>0.359894</td>\n",
              "      <td>-0.358091</td>\n",
              "      <td>-0.137134</td>\n",
              "      <td>0.517617</td>\n",
              "      <td>0.401726</td>\n",
              "      <td>-0.058133</td>\n",
              "      <td>0.068653</td>\n",
              "      <td>-0.033194</td>\n",
              "      <td>0.084968</td>\n",
              "      <td>-0.208254</td>\n",
              "      <td>-0.559825</td>\n",
              "      <td>-0.026398</td>\n",
              "      <td>-0.371427</td>\n",
              "      <td>-0.232794</td>\n",
              "      <td>0.105915</td>\n",
              "      <td>0.253844</td>\n",
              "      <td>0.081080</td>\n",
              "      <td>3.67</td>\n",
              "      <td>0</td>\n",
              "    </tr>\n",
              "    <tr>\n",
              "      <th>6</th>\n",
              "      <td>4.0</td>\n",
              "      <td>1.229658</td>\n",
              "      <td>0.141004</td>\n",
              "      <td>0.045371</td>\n",
              "      <td>1.202613</td>\n",
              "      <td>0.191881</td>\n",
              "      <td>0.272708</td>\n",
              "      <td>-0.005159</td>\n",
              "      <td>0.081213</td>\n",
              "      <td>0.464960</td>\n",
              "      <td>-0.099254</td>\n",
              "      <td>-1.416907</td>\n",
              "      <td>-0.153826</td>\n",
              "      <td>-0.751063</td>\n",
              "      <td>0.167372</td>\n",
              "      <td>0.050144</td>\n",
              "      <td>-0.443587</td>\n",
              "      <td>0.002821</td>\n",
              "      <td>-0.611987</td>\n",
              "      <td>-0.045575</td>\n",
              "      <td>-0.219633</td>\n",
              "      <td>-0.167716</td>\n",
              "      <td>-0.270710</td>\n",
              "      <td>-0.154104</td>\n",
              "      <td>-0.780055</td>\n",
              "      <td>0.750137</td>\n",
              "      <td>-0.257237</td>\n",
              "      <td>0.034507</td>\n",
              "      <td>0.005168</td>\n",
              "      <td>4.99</td>\n",
              "      <td>0</td>\n",
              "    </tr>\n",
              "    <tr>\n",
              "      <th>7</th>\n",
              "      <td>7.0</td>\n",
              "      <td>-0.644269</td>\n",
              "      <td>1.417964</td>\n",
              "      <td>1.074380</td>\n",
              "      <td>-0.492199</td>\n",
              "      <td>0.948934</td>\n",
              "      <td>0.428118</td>\n",
              "      <td>1.120631</td>\n",
              "      <td>-3.807864</td>\n",
              "      <td>0.615375</td>\n",
              "      <td>1.249376</td>\n",
              "      <td>-0.619468</td>\n",
              "      <td>0.291474</td>\n",
              "      <td>1.757964</td>\n",
              "      <td>-1.323865</td>\n",
              "      <td>0.686133</td>\n",
              "      <td>-0.076127</td>\n",
              "      <td>-1.222127</td>\n",
              "      <td>-0.358222</td>\n",
              "      <td>0.324505</td>\n",
              "      <td>-0.156742</td>\n",
              "      <td>1.943465</td>\n",
              "      <td>-1.015455</td>\n",
              "      <td>0.057504</td>\n",
              "      <td>-0.649709</td>\n",
              "      <td>-0.415267</td>\n",
              "      <td>-0.051634</td>\n",
              "      <td>-1.206921</td>\n",
              "      <td>-1.085339</td>\n",
              "      <td>40.80</td>\n",
              "      <td>0</td>\n",
              "    </tr>\n",
              "    <tr>\n",
              "      <th>8</th>\n",
              "      <td>7.0</td>\n",
              "      <td>-0.894286</td>\n",
              "      <td>0.286157</td>\n",
              "      <td>-0.113192</td>\n",
              "      <td>-0.271526</td>\n",
              "      <td>2.669599</td>\n",
              "      <td>3.721818</td>\n",
              "      <td>0.370145</td>\n",
              "      <td>0.851084</td>\n",
              "      <td>-0.392048</td>\n",
              "      <td>-0.410430</td>\n",
              "      <td>-0.705117</td>\n",
              "      <td>-0.110452</td>\n",
              "      <td>-0.286254</td>\n",
              "      <td>0.074355</td>\n",
              "      <td>-0.328783</td>\n",
              "      <td>-0.210077</td>\n",
              "      <td>-0.499768</td>\n",
              "      <td>0.118765</td>\n",
              "      <td>0.570328</td>\n",
              "      <td>0.052736</td>\n",
              "      <td>-0.073425</td>\n",
              "      <td>-0.268092</td>\n",
              "      <td>-0.204233</td>\n",
              "      <td>1.011592</td>\n",
              "      <td>0.373205</td>\n",
              "      <td>-0.384157</td>\n",
              "      <td>0.011747</td>\n",
              "      <td>0.142404</td>\n",
              "      <td>93.20</td>\n",
              "      <td>0</td>\n",
              "    </tr>\n",
              "    <tr>\n",
              "      <th>9</th>\n",
              "      <td>9.0</td>\n",
              "      <td>-0.338262</td>\n",
              "      <td>1.119593</td>\n",
              "      <td>1.044367</td>\n",
              "      <td>-0.222187</td>\n",
              "      <td>0.499361</td>\n",
              "      <td>-0.246761</td>\n",
              "      <td>0.651583</td>\n",
              "      <td>0.069539</td>\n",
              "      <td>-0.736727</td>\n",
              "      <td>-0.366846</td>\n",
              "      <td>1.017614</td>\n",
              "      <td>0.836390</td>\n",
              "      <td>1.006844</td>\n",
              "      <td>-0.443523</td>\n",
              "      <td>0.150219</td>\n",
              "      <td>0.739453</td>\n",
              "      <td>-0.540980</td>\n",
              "      <td>0.476677</td>\n",
              "      <td>0.451773</td>\n",
              "      <td>0.203711</td>\n",
              "      <td>-0.246914</td>\n",
              "      <td>-0.633753</td>\n",
              "      <td>-0.120794</td>\n",
              "      <td>-0.385050</td>\n",
              "      <td>-0.069733</td>\n",
              "      <td>0.094199</td>\n",
              "      <td>0.246219</td>\n",
              "      <td>0.083076</td>\n",
              "      <td>3.68</td>\n",
              "      <td>0</td>\n",
              "    </tr>\n",
              "    <tr>\n",
              "      <th>10</th>\n",
              "      <td>10.0</td>\n",
              "      <td>1.449044</td>\n",
              "      <td>-1.176339</td>\n",
              "      <td>0.913860</td>\n",
              "      <td>-1.375667</td>\n",
              "      <td>-1.971383</td>\n",
              "      <td>-0.629152</td>\n",
              "      <td>-1.423236</td>\n",
              "      <td>0.048456</td>\n",
              "      <td>-1.720408</td>\n",
              "      <td>1.626659</td>\n",
              "      <td>1.199644</td>\n",
              "      <td>-0.671440</td>\n",
              "      <td>-0.513947</td>\n",
              "      <td>-0.095045</td>\n",
              "      <td>0.230930</td>\n",
              "      <td>0.031967</td>\n",
              "      <td>0.253415</td>\n",
              "      <td>0.854344</td>\n",
              "      <td>-0.221365</td>\n",
              "      <td>-0.387226</td>\n",
              "      <td>-0.009302</td>\n",
              "      <td>0.313894</td>\n",
              "      <td>0.027740</td>\n",
              "      <td>0.500512</td>\n",
              "      <td>0.251367</td>\n",
              "      <td>-0.129478</td>\n",
              "      <td>0.042850</td>\n",
              "      <td>0.016253</td>\n",
              "      <td>7.80</td>\n",
              "      <td>0</td>\n",
              "    </tr>\n",
              "    <tr>\n",
              "      <th>11</th>\n",
              "      <td>10.0</td>\n",
              "      <td>0.384978</td>\n",
              "      <td>0.616109</td>\n",
              "      <td>-0.874300</td>\n",
              "      <td>-0.094019</td>\n",
              "      <td>2.924584</td>\n",
              "      <td>3.317027</td>\n",
              "      <td>0.470455</td>\n",
              "      <td>0.538247</td>\n",
              "      <td>-0.558895</td>\n",
              "      <td>0.309755</td>\n",
              "      <td>-0.259116</td>\n",
              "      <td>-0.326143</td>\n",
              "      <td>-0.090047</td>\n",
              "      <td>0.362832</td>\n",
              "      <td>0.928904</td>\n",
              "      <td>-0.129487</td>\n",
              "      <td>-0.809979</td>\n",
              "      <td>0.359985</td>\n",
              "      <td>0.707664</td>\n",
              "      <td>0.125992</td>\n",
              "      <td>0.049924</td>\n",
              "      <td>0.238422</td>\n",
              "      <td>0.009130</td>\n",
              "      <td>0.996710</td>\n",
              "      <td>-0.767315</td>\n",
              "      <td>-0.492208</td>\n",
              "      <td>0.042472</td>\n",
              "      <td>-0.054337</td>\n",
              "      <td>9.99</td>\n",
              "      <td>0</td>\n",
              "    </tr>\n",
              "    <tr>\n",
              "      <th>12</th>\n",
              "      <td>10.0</td>\n",
              "      <td>1.249999</td>\n",
              "      <td>-1.221637</td>\n",
              "      <td>0.383930</td>\n",
              "      <td>-1.234899</td>\n",
              "      <td>-1.485419</td>\n",
              "      <td>-0.753230</td>\n",
              "      <td>-0.689405</td>\n",
              "      <td>-0.227487</td>\n",
              "      <td>-2.094011</td>\n",
              "      <td>1.323729</td>\n",
              "      <td>0.227666</td>\n",
              "      <td>-0.242682</td>\n",
              "      <td>1.205417</td>\n",
              "      <td>-0.317631</td>\n",
              "      <td>0.725675</td>\n",
              "      <td>-0.815612</td>\n",
              "      <td>0.873936</td>\n",
              "      <td>-0.847789</td>\n",
              "      <td>-0.683193</td>\n",
              "      <td>-0.102756</td>\n",
              "      <td>-0.231809</td>\n",
              "      <td>-0.483285</td>\n",
              "      <td>0.084668</td>\n",
              "      <td>0.392831</td>\n",
              "      <td>0.161135</td>\n",
              "      <td>-0.354990</td>\n",
              "      <td>0.026416</td>\n",
              "      <td>0.042422</td>\n",
              "      <td>121.50</td>\n",
              "      <td>0</td>\n",
              "    </tr>\n",
              "    <tr>\n",
              "      <th>13</th>\n",
              "      <td>11.0</td>\n",
              "      <td>1.069374</td>\n",
              "      <td>0.287722</td>\n",
              "      <td>0.828613</td>\n",
              "      <td>2.712520</td>\n",
              "      <td>-0.178398</td>\n",
              "      <td>0.337544</td>\n",
              "      <td>-0.096717</td>\n",
              "      <td>0.115982</td>\n",
              "      <td>-0.221083</td>\n",
              "      <td>0.460230</td>\n",
              "      <td>-0.773657</td>\n",
              "      <td>0.323387</td>\n",
              "      <td>-0.011076</td>\n",
              "      <td>-0.178485</td>\n",
              "      <td>-0.655564</td>\n",
              "      <td>-0.199925</td>\n",
              "      <td>0.124005</td>\n",
              "      <td>-0.980496</td>\n",
              "      <td>-0.982916</td>\n",
              "      <td>-0.153197</td>\n",
              "      <td>-0.036876</td>\n",
              "      <td>0.074412</td>\n",
              "      <td>-0.071407</td>\n",
              "      <td>0.104744</td>\n",
              "      <td>0.548265</td>\n",
              "      <td>0.104094</td>\n",
              "      <td>0.021491</td>\n",
              "      <td>0.021293</td>\n",
              "      <td>27.50</td>\n",
              "      <td>0</td>\n",
              "    </tr>\n",
              "    <tr>\n",
              "      <th>14</th>\n",
              "      <td>12.0</td>\n",
              "      <td>-2.791855</td>\n",
              "      <td>-0.327771</td>\n",
              "      <td>1.641750</td>\n",
              "      <td>1.767473</td>\n",
              "      <td>-0.136588</td>\n",
              "      <td>0.807596</td>\n",
              "      <td>-0.422911</td>\n",
              "      <td>-1.907107</td>\n",
              "      <td>0.755713</td>\n",
              "      <td>1.151087</td>\n",
              "      <td>0.844555</td>\n",
              "      <td>0.792944</td>\n",
              "      <td>0.370448</td>\n",
              "      <td>-0.734975</td>\n",
              "      <td>0.406796</td>\n",
              "      <td>-0.303058</td>\n",
              "      <td>-0.155869</td>\n",
              "      <td>0.778265</td>\n",
              "      <td>2.221868</td>\n",
              "      <td>-1.582122</td>\n",
              "      <td>1.151663</td>\n",
              "      <td>0.222182</td>\n",
              "      <td>1.020586</td>\n",
              "      <td>0.028317</td>\n",
              "      <td>-0.232746</td>\n",
              "      <td>-0.235557</td>\n",
              "      <td>-0.164778</td>\n",
              "      <td>-0.030154</td>\n",
              "      <td>58.80</td>\n",
              "      <td>0</td>\n",
              "    </tr>\n",
              "    <tr>\n",
              "      <th>15</th>\n",
              "      <td>12.0</td>\n",
              "      <td>-0.752417</td>\n",
              "      <td>0.345485</td>\n",
              "      <td>2.057323</td>\n",
              "      <td>-1.468643</td>\n",
              "      <td>-1.158394</td>\n",
              "      <td>-0.077850</td>\n",
              "      <td>-0.608581</td>\n",
              "      <td>0.003603</td>\n",
              "      <td>-0.436167</td>\n",
              "      <td>0.747731</td>\n",
              "      <td>-0.793981</td>\n",
              "      <td>-0.770407</td>\n",
              "      <td>1.047627</td>\n",
              "      <td>-1.066604</td>\n",
              "      <td>1.106953</td>\n",
              "      <td>1.660114</td>\n",
              "      <td>-0.279265</td>\n",
              "      <td>-0.419994</td>\n",
              "      <td>0.432535</td>\n",
              "      <td>0.263451</td>\n",
              "      <td>0.499625</td>\n",
              "      <td>1.353650</td>\n",
              "      <td>-0.256573</td>\n",
              "      <td>-0.065084</td>\n",
              "      <td>-0.039124</td>\n",
              "      <td>-0.087086</td>\n",
              "      <td>-0.180998</td>\n",
              "      <td>0.129394</td>\n",
              "      <td>15.99</td>\n",
              "      <td>0</td>\n",
              "    </tr>\n",
              "    <tr>\n",
              "      <th>16</th>\n",
              "      <td>12.0</td>\n",
              "      <td>1.103215</td>\n",
              "      <td>-0.040296</td>\n",
              "      <td>1.267332</td>\n",
              "      <td>1.289091</td>\n",
              "      <td>-0.735997</td>\n",
              "      <td>0.288069</td>\n",
              "      <td>-0.586057</td>\n",
              "      <td>0.189380</td>\n",
              "      <td>0.782333</td>\n",
              "      <td>-0.267975</td>\n",
              "      <td>-0.450311</td>\n",
              "      <td>0.936708</td>\n",
              "      <td>0.708380</td>\n",
              "      <td>-0.468647</td>\n",
              "      <td>0.354574</td>\n",
              "      <td>-0.246635</td>\n",
              "      <td>-0.009212</td>\n",
              "      <td>-0.595912</td>\n",
              "      <td>-0.575682</td>\n",
              "      <td>-0.113910</td>\n",
              "      <td>-0.024612</td>\n",
              "      <td>0.196002</td>\n",
              "      <td>0.013802</td>\n",
              "      <td>0.103758</td>\n",
              "      <td>0.364298</td>\n",
              "      <td>-0.382261</td>\n",
              "      <td>0.092809</td>\n",
              "      <td>0.037051</td>\n",
              "      <td>12.99</td>\n",
              "      <td>0</td>\n",
              "    </tr>\n",
              "    <tr>\n",
              "      <th>17</th>\n",
              "      <td>13.0</td>\n",
              "      <td>-0.436905</td>\n",
              "      <td>0.918966</td>\n",
              "      <td>0.924591</td>\n",
              "      <td>-0.727219</td>\n",
              "      <td>0.915679</td>\n",
              "      <td>-0.127867</td>\n",
              "      <td>0.707642</td>\n",
              "      <td>0.087962</td>\n",
              "      <td>-0.665271</td>\n",
              "      <td>-0.737980</td>\n",
              "      <td>0.324098</td>\n",
              "      <td>0.277192</td>\n",
              "      <td>0.252624</td>\n",
              "      <td>-0.291896</td>\n",
              "      <td>-0.184520</td>\n",
              "      <td>1.143174</td>\n",
              "      <td>-0.928709</td>\n",
              "      <td>0.680470</td>\n",
              "      <td>0.025436</td>\n",
              "      <td>-0.047021</td>\n",
              "      <td>-0.194796</td>\n",
              "      <td>-0.672638</td>\n",
              "      <td>-0.156858</td>\n",
              "      <td>-0.888386</td>\n",
              "      <td>-0.342413</td>\n",
              "      <td>-0.049027</td>\n",
              "      <td>0.079692</td>\n",
              "      <td>0.131024</td>\n",
              "      <td>0.89</td>\n",
              "      <td>0</td>\n",
              "    </tr>\n",
              "    <tr>\n",
              "      <th>18</th>\n",
              "      <td>14.0</td>\n",
              "      <td>-5.401258</td>\n",
              "      <td>-5.450148</td>\n",
              "      <td>1.186305</td>\n",
              "      <td>1.736239</td>\n",
              "      <td>3.049106</td>\n",
              "      <td>-1.763406</td>\n",
              "      <td>-1.559738</td>\n",
              "      <td>0.160842</td>\n",
              "      <td>1.233090</td>\n",
              "      <td>0.345173</td>\n",
              "      <td>0.917230</td>\n",
              "      <td>0.970117</td>\n",
              "      <td>-0.266568</td>\n",
              "      <td>-0.479130</td>\n",
              "      <td>-0.526609</td>\n",
              "      <td>0.472004</td>\n",
              "      <td>-0.725481</td>\n",
              "      <td>0.075081</td>\n",
              "      <td>-0.406867</td>\n",
              "      <td>-2.196848</td>\n",
              "      <td>-0.503600</td>\n",
              "      <td>0.984460</td>\n",
              "      <td>2.458589</td>\n",
              "      <td>0.042119</td>\n",
              "      <td>-0.481631</td>\n",
              "      <td>-0.621272</td>\n",
              "      <td>0.392053</td>\n",
              "      <td>0.949594</td>\n",
              "      <td>46.80</td>\n",
              "      <td>0</td>\n",
              "    </tr>\n",
              "    <tr>\n",
              "      <th>19</th>\n",
              "      <td>15.0</td>\n",
              "      <td>1.492936</td>\n",
              "      <td>-1.029346</td>\n",
              "      <td>0.454795</td>\n",
              "      <td>-1.438026</td>\n",
              "      <td>-1.555434</td>\n",
              "      <td>-0.720961</td>\n",
              "      <td>-1.080664</td>\n",
              "      <td>-0.053127</td>\n",
              "      <td>-1.978682</td>\n",
              "      <td>1.638076</td>\n",
              "      <td>1.077542</td>\n",
              "      <td>-0.632047</td>\n",
              "      <td>-0.416957</td>\n",
              "      <td>0.052011</td>\n",
              "      <td>-0.042979</td>\n",
              "      <td>-0.166432</td>\n",
              "      <td>0.304241</td>\n",
              "      <td>0.554432</td>\n",
              "      <td>0.054230</td>\n",
              "      <td>-0.387910</td>\n",
              "      <td>-0.177650</td>\n",
              "      <td>-0.175074</td>\n",
              "      <td>0.040002</td>\n",
              "      <td>0.295814</td>\n",
              "      <td>0.332931</td>\n",
              "      <td>-0.220385</td>\n",
              "      <td>0.022298</td>\n",
              "      <td>0.007602</td>\n",
              "      <td>5.00</td>\n",
              "      <td>0</td>\n",
              "    </tr>\n",
              "    <tr>\n",
              "      <th>20</th>\n",
              "      <td>16.0</td>\n",
              "      <td>0.694885</td>\n",
              "      <td>-1.361819</td>\n",
              "      <td>1.029221</td>\n",
              "      <td>0.834159</td>\n",
              "      <td>-1.191209</td>\n",
              "      <td>1.309109</td>\n",
              "      <td>-0.878586</td>\n",
              "      <td>0.445290</td>\n",
              "      <td>-0.446196</td>\n",
              "      <td>0.568521</td>\n",
              "      <td>1.019151</td>\n",
              "      <td>1.298329</td>\n",
              "      <td>0.420480</td>\n",
              "      <td>-0.372651</td>\n",
              "      <td>-0.807980</td>\n",
              "      <td>-2.044557</td>\n",
              "      <td>0.515663</td>\n",
              "      <td>0.625847</td>\n",
              "      <td>-1.300408</td>\n",
              "      <td>-0.138334</td>\n",
              "      <td>-0.295583</td>\n",
              "      <td>-0.571955</td>\n",
              "      <td>-0.050881</td>\n",
              "      <td>-0.304215</td>\n",
              "      <td>0.072001</td>\n",
              "      <td>-0.422234</td>\n",
              "      <td>0.086553</td>\n",
              "      <td>0.063499</td>\n",
              "      <td>231.71</td>\n",
              "      <td>0</td>\n",
              "    </tr>\n",
              "    <tr>\n",
              "      <th>21</th>\n",
              "      <td>17.0</td>\n",
              "      <td>0.962496</td>\n",
              "      <td>0.328461</td>\n",
              "      <td>-0.171479</td>\n",
              "      <td>2.109204</td>\n",
              "      <td>1.129566</td>\n",
              "      <td>1.696038</td>\n",
              "      <td>0.107712</td>\n",
              "      <td>0.521502</td>\n",
              "      <td>-1.191311</td>\n",
              "      <td>0.724396</td>\n",
              "      <td>1.690330</td>\n",
              "      <td>0.406774</td>\n",
              "      <td>-0.936421</td>\n",
              "      <td>0.983739</td>\n",
              "      <td>0.710911</td>\n",
              "      <td>-0.602232</td>\n",
              "      <td>0.402484</td>\n",
              "      <td>-1.737162</td>\n",
              "      <td>-2.027612</td>\n",
              "      <td>-0.269321</td>\n",
              "      <td>0.143997</td>\n",
              "      <td>0.402492</td>\n",
              "      <td>-0.048508</td>\n",
              "      <td>-1.371866</td>\n",
              "      <td>0.390814</td>\n",
              "      <td>0.199964</td>\n",
              "      <td>0.016371</td>\n",
              "      <td>-0.014605</td>\n",
              "      <td>34.09</td>\n",
              "      <td>0</td>\n",
              "    </tr>\n",
              "    <tr>\n",
              "      <th>22</th>\n",
              "      <td>18.0</td>\n",
              "      <td>1.166616</td>\n",
              "      <td>0.502120</td>\n",
              "      <td>-0.067300</td>\n",
              "      <td>2.261569</td>\n",
              "      <td>0.428804</td>\n",
              "      <td>0.089474</td>\n",
              "      <td>0.241147</td>\n",
              "      <td>0.138082</td>\n",
              "      <td>-0.989162</td>\n",
              "      <td>0.922175</td>\n",
              "      <td>0.744786</td>\n",
              "      <td>-0.531377</td>\n",
              "      <td>-2.105346</td>\n",
              "      <td>1.126870</td>\n",
              "      <td>0.003075</td>\n",
              "      <td>0.424425</td>\n",
              "      <td>-0.454475</td>\n",
              "      <td>-0.098871</td>\n",
              "      <td>-0.816597</td>\n",
              "      <td>-0.307169</td>\n",
              "      <td>0.018702</td>\n",
              "      <td>-0.061972</td>\n",
              "      <td>-0.103855</td>\n",
              "      <td>-0.370415</td>\n",
              "      <td>0.603200</td>\n",
              "      <td>0.108556</td>\n",
              "      <td>-0.040521</td>\n",
              "      <td>-0.011418</td>\n",
              "      <td>2.28</td>\n",
              "      <td>0</td>\n",
              "    </tr>\n",
              "    <tr>\n",
              "      <th>23</th>\n",
              "      <td>18.0</td>\n",
              "      <td>0.247491</td>\n",
              "      <td>0.277666</td>\n",
              "      <td>1.185471</td>\n",
              "      <td>-0.092603</td>\n",
              "      <td>-1.314394</td>\n",
              "      <td>-0.150116</td>\n",
              "      <td>-0.946365</td>\n",
              "      <td>-1.617935</td>\n",
              "      <td>1.544071</td>\n",
              "      <td>-0.829881</td>\n",
              "      <td>-0.583200</td>\n",
              "      <td>0.524933</td>\n",
              "      <td>-0.453375</td>\n",
              "      <td>0.081393</td>\n",
              "      <td>1.555204</td>\n",
              "      <td>-1.396895</td>\n",
              "      <td>0.783131</td>\n",
              "      <td>0.436621</td>\n",
              "      <td>2.177807</td>\n",
              "      <td>-0.230983</td>\n",
              "      <td>1.650180</td>\n",
              "      <td>0.200454</td>\n",
              "      <td>-0.185353</td>\n",
              "      <td>0.423073</td>\n",
              "      <td>0.820591</td>\n",
              "      <td>-0.227632</td>\n",
              "      <td>0.336634</td>\n",
              "      <td>0.250475</td>\n",
              "      <td>22.75</td>\n",
              "      <td>0</td>\n",
              "    </tr>\n",
              "    <tr>\n",
              "      <th>24</th>\n",
              "      <td>22.0</td>\n",
              "      <td>-1.946525</td>\n",
              "      <td>-0.044901</td>\n",
              "      <td>-0.405570</td>\n",
              "      <td>-1.013057</td>\n",
              "      <td>2.941968</td>\n",
              "      <td>2.955053</td>\n",
              "      <td>-0.063063</td>\n",
              "      <td>0.855546</td>\n",
              "      <td>0.049967</td>\n",
              "      <td>0.573743</td>\n",
              "      <td>-0.081257</td>\n",
              "      <td>-0.215745</td>\n",
              "      <td>0.044161</td>\n",
              "      <td>0.033898</td>\n",
              "      <td>1.190718</td>\n",
              "      <td>0.578843</td>\n",
              "      <td>-0.975667</td>\n",
              "      <td>0.044063</td>\n",
              "      <td>0.488603</td>\n",
              "      <td>-0.216715</td>\n",
              "      <td>-0.579526</td>\n",
              "      <td>-0.799229</td>\n",
              "      <td>0.870300</td>\n",
              "      <td>0.983421</td>\n",
              "      <td>0.321201</td>\n",
              "      <td>0.149650</td>\n",
              "      <td>0.707519</td>\n",
              "      <td>0.014600</td>\n",
              "      <td>0.89</td>\n",
              "      <td>0</td>\n",
              "    </tr>\n",
              "    <tr>\n",
              "      <th>25</th>\n",
              "      <td>22.0</td>\n",
              "      <td>-2.074295</td>\n",
              "      <td>-0.121482</td>\n",
              "      <td>1.322021</td>\n",
              "      <td>0.410008</td>\n",
              "      <td>0.295198</td>\n",
              "      <td>-0.959537</td>\n",
              "      <td>0.543985</td>\n",
              "      <td>-0.104627</td>\n",
              "      <td>0.475664</td>\n",
              "      <td>0.149451</td>\n",
              "      <td>-0.856566</td>\n",
              "      <td>-0.180523</td>\n",
              "      <td>-0.655233</td>\n",
              "      <td>-0.279797</td>\n",
              "      <td>-0.211668</td>\n",
              "      <td>-0.333321</td>\n",
              "      <td>0.010751</td>\n",
              "      <td>-0.488473</td>\n",
              "      <td>0.505751</td>\n",
              "      <td>-0.386694</td>\n",
              "      <td>-0.403639</td>\n",
              "      <td>-0.227404</td>\n",
              "      <td>0.742435</td>\n",
              "      <td>0.398535</td>\n",
              "      <td>0.249212</td>\n",
              "      <td>0.274404</td>\n",
              "      <td>0.359969</td>\n",
              "      <td>0.243232</td>\n",
              "      <td>26.43</td>\n",
              "      <td>0</td>\n",
              "    </tr>\n",
              "    <tr>\n",
              "      <th>26</th>\n",
              "      <td>23.0</td>\n",
              "      <td>1.173285</td>\n",
              "      <td>0.353498</td>\n",
              "      <td>0.283905</td>\n",
              "      <td>1.133563</td>\n",
              "      <td>-0.172577</td>\n",
              "      <td>-0.916054</td>\n",
              "      <td>0.369025</td>\n",
              "      <td>-0.327260</td>\n",
              "      <td>-0.246651</td>\n",
              "      <td>-0.046139</td>\n",
              "      <td>-0.143419</td>\n",
              "      <td>0.979350</td>\n",
              "      <td>1.492285</td>\n",
              "      <td>0.101418</td>\n",
              "      <td>0.761478</td>\n",
              "      <td>-0.014584</td>\n",
              "      <td>-0.511640</td>\n",
              "      <td>-0.325056</td>\n",
              "      <td>-0.390934</td>\n",
              "      <td>0.027878</td>\n",
              "      <td>0.067003</td>\n",
              "      <td>0.227812</td>\n",
              "      <td>-0.150487</td>\n",
              "      <td>0.435045</td>\n",
              "      <td>0.724825</td>\n",
              "      <td>-0.337082</td>\n",
              "      <td>0.016368</td>\n",
              "      <td>0.030041</td>\n",
              "      <td>41.88</td>\n",
              "      <td>0</td>\n",
              "    </tr>\n",
              "    <tr>\n",
              "      <th>27</th>\n",
              "      <td>23.0</td>\n",
              "      <td>1.322707</td>\n",
              "      <td>-0.174041</td>\n",
              "      <td>0.434555</td>\n",
              "      <td>0.576038</td>\n",
              "      <td>-0.836758</td>\n",
              "      <td>-0.831083</td>\n",
              "      <td>-0.264905</td>\n",
              "      <td>-0.220982</td>\n",
              "      <td>-1.071425</td>\n",
              "      <td>0.868559</td>\n",
              "      <td>-0.641506</td>\n",
              "      <td>-0.111316</td>\n",
              "      <td>0.361485</td>\n",
              "      <td>0.171945</td>\n",
              "      <td>0.782167</td>\n",
              "      <td>-1.355871</td>\n",
              "      <td>-0.216935</td>\n",
              "      <td>1.271765</td>\n",
              "      <td>-1.240622</td>\n",
              "      <td>-0.522951</td>\n",
              "      <td>-0.284376</td>\n",
              "      <td>-0.323357</td>\n",
              "      <td>-0.037710</td>\n",
              "      <td>0.347151</td>\n",
              "      <td>0.559639</td>\n",
              "      <td>-0.280158</td>\n",
              "      <td>0.042335</td>\n",
              "      <td>0.028822</td>\n",
              "      <td>16.00</td>\n",
              "      <td>0</td>\n",
              "    </tr>\n",
              "    <tr>\n",
              "      <th>28</th>\n",
              "      <td>23.0</td>\n",
              "      <td>-0.414289</td>\n",
              "      <td>0.905437</td>\n",
              "      <td>1.727453</td>\n",
              "      <td>1.473471</td>\n",
              "      <td>0.007443</td>\n",
              "      <td>-0.200331</td>\n",
              "      <td>0.740228</td>\n",
              "      <td>-0.029247</td>\n",
              "      <td>-0.593392</td>\n",
              "      <td>-0.346188</td>\n",
              "      <td>-0.012142</td>\n",
              "      <td>0.786796</td>\n",
              "      <td>0.635954</td>\n",
              "      <td>-0.086324</td>\n",
              "      <td>0.076804</td>\n",
              "      <td>-1.405919</td>\n",
              "      <td>0.775592</td>\n",
              "      <td>-0.942889</td>\n",
              "      <td>0.543969</td>\n",
              "      <td>0.097308</td>\n",
              "      <td>0.077237</td>\n",
              "      <td>0.457331</td>\n",
              "      <td>-0.038500</td>\n",
              "      <td>0.642522</td>\n",
              "      <td>-0.183891</td>\n",
              "      <td>-0.277464</td>\n",
              "      <td>0.182687</td>\n",
              "      <td>0.152665</td>\n",
              "      <td>33.00</td>\n",
              "      <td>0</td>\n",
              "    </tr>\n",
              "    <tr>\n",
              "      <th>29</th>\n",
              "      <td>23.0</td>\n",
              "      <td>1.059387</td>\n",
              "      <td>-0.175319</td>\n",
              "      <td>1.266130</td>\n",
              "      <td>1.186110</td>\n",
              "      <td>-0.786002</td>\n",
              "      <td>0.578435</td>\n",
              "      <td>-0.767084</td>\n",
              "      <td>0.401046</td>\n",
              "      <td>0.699500</td>\n",
              "      <td>-0.064738</td>\n",
              "      <td>1.048292</td>\n",
              "      <td>1.005618</td>\n",
              "      <td>-0.542002</td>\n",
              "      <td>-0.039915</td>\n",
              "      <td>-0.218683</td>\n",
              "      <td>0.004476</td>\n",
              "      <td>-0.193554</td>\n",
              "      <td>0.042388</td>\n",
              "      <td>-0.277834</td>\n",
              "      <td>-0.178023</td>\n",
              "      <td>0.013676</td>\n",
              "      <td>0.213734</td>\n",
              "      <td>0.014462</td>\n",
              "      <td>0.002951</td>\n",
              "      <td>0.294638</td>\n",
              "      <td>-0.395070</td>\n",
              "      <td>0.081461</td>\n",
              "      <td>0.024220</td>\n",
              "      <td>12.99</td>\n",
              "      <td>0</td>\n",
              "    </tr>\n",
              "  </tbody>\n",
              "</table>\n",
              "</div>"
            ],
            "text/plain": [
              "    Time        V1        V2        V3  ...       V27       V28  Amount  Class\n",
              "0    0.0 -1.359807 -0.072781  2.536347  ...  0.133558 -0.021053  149.62      0\n",
              "1    0.0  1.191857  0.266151  0.166480  ... -0.008983  0.014724    2.69      0\n",
              "2    1.0 -1.358354 -1.340163  1.773209  ... -0.055353 -0.059752  378.66      0\n",
              "3    1.0 -0.966272 -0.185226  1.792993  ...  0.062723  0.061458  123.50      0\n",
              "4    2.0 -1.158233  0.877737  1.548718  ...  0.219422  0.215153   69.99      0\n",
              "5    2.0 -0.425966  0.960523  1.141109  ...  0.253844  0.081080    3.67      0\n",
              "6    4.0  1.229658  0.141004  0.045371  ...  0.034507  0.005168    4.99      0\n",
              "7    7.0 -0.644269  1.417964  1.074380  ... -1.206921 -1.085339   40.80      0\n",
              "8    7.0 -0.894286  0.286157 -0.113192  ...  0.011747  0.142404   93.20      0\n",
              "9    9.0 -0.338262  1.119593  1.044367  ...  0.246219  0.083076    3.68      0\n",
              "10  10.0  1.449044 -1.176339  0.913860  ...  0.042850  0.016253    7.80      0\n",
              "11  10.0  0.384978  0.616109 -0.874300  ...  0.042472 -0.054337    9.99      0\n",
              "12  10.0  1.249999 -1.221637  0.383930  ...  0.026416  0.042422  121.50      0\n",
              "13  11.0  1.069374  0.287722  0.828613  ...  0.021491  0.021293   27.50      0\n",
              "14  12.0 -2.791855 -0.327771  1.641750  ... -0.164778 -0.030154   58.80      0\n",
              "15  12.0 -0.752417  0.345485  2.057323  ... -0.180998  0.129394   15.99      0\n",
              "16  12.0  1.103215 -0.040296  1.267332  ...  0.092809  0.037051   12.99      0\n",
              "17  13.0 -0.436905  0.918966  0.924591  ...  0.079692  0.131024    0.89      0\n",
              "18  14.0 -5.401258 -5.450148  1.186305  ...  0.392053  0.949594   46.80      0\n",
              "19  15.0  1.492936 -1.029346  0.454795  ...  0.022298  0.007602    5.00      0\n",
              "20  16.0  0.694885 -1.361819  1.029221  ...  0.086553  0.063499  231.71      0\n",
              "21  17.0  0.962496  0.328461 -0.171479  ...  0.016371 -0.014605   34.09      0\n",
              "22  18.0  1.166616  0.502120 -0.067300  ... -0.040521 -0.011418    2.28      0\n",
              "23  18.0  0.247491  0.277666  1.185471  ...  0.336634  0.250475   22.75      0\n",
              "24  22.0 -1.946525 -0.044901 -0.405570  ...  0.707519  0.014600    0.89      0\n",
              "25  22.0 -2.074295 -0.121482  1.322021  ...  0.359969  0.243232   26.43      0\n",
              "26  23.0  1.173285  0.353498  0.283905  ...  0.016368  0.030041   41.88      0\n",
              "27  23.0  1.322707 -0.174041  0.434555  ...  0.042335  0.028822   16.00      0\n",
              "28  23.0 -0.414289  0.905437  1.727453  ...  0.182687  0.152665   33.00      0\n",
              "29  23.0  1.059387 -0.175319  1.266130  ...  0.081461  0.024220   12.99      0\n",
              "\n",
              "[30 rows x 31 columns]"
            ]
          },
          "metadata": {
            "tags": []
          },
          "execution_count": 61
        }
      ]
    },
    {
      "cell_type": "code",
      "metadata": {
        "colab": {
          "base_uri": "https://localhost:8080/"
        },
        "id": "o6zMdTkfzyro",
        "outputId": "fd775867-57da-45fb-9001-68e4df5bd2c5"
      },
      "source": [
        "data.shape"
      ],
      "execution_count": 62,
      "outputs": [
        {
          "output_type": "execute_result",
          "data": {
            "text/plain": [
              "(284807, 31)"
            ]
          },
          "metadata": {
            "tags": []
          },
          "execution_count": 62
        }
      ]
    },
    {
      "cell_type": "code",
      "metadata": {
        "colab": {
          "base_uri": "https://localhost:8080/",
          "height": 314
        },
        "id": "uRJCcyWvzypd",
        "outputId": "8a3c1f42-5939-475a-ba9b-1e06910c9d9f"
      },
      "source": [
        "data.describe()"
      ],
      "execution_count": 63,
      "outputs": [
        {
          "output_type": "execute_result",
          "data": {
            "text/html": [
              "<div>\n",
              "<style scoped>\n",
              "    .dataframe tbody tr th:only-of-type {\n",
              "        vertical-align: middle;\n",
              "    }\n",
              "\n",
              "    .dataframe tbody tr th {\n",
              "        vertical-align: top;\n",
              "    }\n",
              "\n",
              "    .dataframe thead th {\n",
              "        text-align: right;\n",
              "    }\n",
              "</style>\n",
              "<table border=\"1\" class=\"dataframe\">\n",
              "  <thead>\n",
              "    <tr style=\"text-align: right;\">\n",
              "      <th></th>\n",
              "      <th>Time</th>\n",
              "      <th>V1</th>\n",
              "      <th>V2</th>\n",
              "      <th>V3</th>\n",
              "      <th>V4</th>\n",
              "      <th>V5</th>\n",
              "      <th>V6</th>\n",
              "      <th>V7</th>\n",
              "      <th>V8</th>\n",
              "      <th>V9</th>\n",
              "      <th>V10</th>\n",
              "      <th>V11</th>\n",
              "      <th>V12</th>\n",
              "      <th>V13</th>\n",
              "      <th>V14</th>\n",
              "      <th>V15</th>\n",
              "      <th>V16</th>\n",
              "      <th>V17</th>\n",
              "      <th>V18</th>\n",
              "      <th>V19</th>\n",
              "      <th>V20</th>\n",
              "      <th>V21</th>\n",
              "      <th>V22</th>\n",
              "      <th>V23</th>\n",
              "      <th>V24</th>\n",
              "      <th>V25</th>\n",
              "      <th>V26</th>\n",
              "      <th>V27</th>\n",
              "      <th>V28</th>\n",
              "      <th>Amount</th>\n",
              "      <th>Class</th>\n",
              "    </tr>\n",
              "  </thead>\n",
              "  <tbody>\n",
              "    <tr>\n",
              "      <th>count</th>\n",
              "      <td>284807.000000</td>\n",
              "      <td>2.848070e+05</td>\n",
              "      <td>2.848070e+05</td>\n",
              "      <td>2.848070e+05</td>\n",
              "      <td>2.848070e+05</td>\n",
              "      <td>2.848070e+05</td>\n",
              "      <td>2.848070e+05</td>\n",
              "      <td>2.848070e+05</td>\n",
              "      <td>2.848070e+05</td>\n",
              "      <td>2.848070e+05</td>\n",
              "      <td>2.848070e+05</td>\n",
              "      <td>2.848070e+05</td>\n",
              "      <td>2.848070e+05</td>\n",
              "      <td>2.848070e+05</td>\n",
              "      <td>2.848070e+05</td>\n",
              "      <td>2.848070e+05</td>\n",
              "      <td>2.848070e+05</td>\n",
              "      <td>2.848070e+05</td>\n",
              "      <td>2.848070e+05</td>\n",
              "      <td>2.848070e+05</td>\n",
              "      <td>2.848070e+05</td>\n",
              "      <td>2.848070e+05</td>\n",
              "      <td>2.848070e+05</td>\n",
              "      <td>2.848070e+05</td>\n",
              "      <td>2.848070e+05</td>\n",
              "      <td>2.848070e+05</td>\n",
              "      <td>2.848070e+05</td>\n",
              "      <td>2.848070e+05</td>\n",
              "      <td>2.848070e+05</td>\n",
              "      <td>284807.000000</td>\n",
              "      <td>284807.000000</td>\n",
              "    </tr>\n",
              "    <tr>\n",
              "      <th>mean</th>\n",
              "      <td>94813.859575</td>\n",
              "      <td>3.919560e-15</td>\n",
              "      <td>5.688174e-16</td>\n",
              "      <td>-8.769071e-15</td>\n",
              "      <td>2.782312e-15</td>\n",
              "      <td>-1.552563e-15</td>\n",
              "      <td>2.010663e-15</td>\n",
              "      <td>-1.694249e-15</td>\n",
              "      <td>-1.927028e-16</td>\n",
              "      <td>-3.137024e-15</td>\n",
              "      <td>1.768627e-15</td>\n",
              "      <td>9.170318e-16</td>\n",
              "      <td>-1.810658e-15</td>\n",
              "      <td>1.693438e-15</td>\n",
              "      <td>1.479045e-15</td>\n",
              "      <td>3.482336e-15</td>\n",
              "      <td>1.392007e-15</td>\n",
              "      <td>-7.528491e-16</td>\n",
              "      <td>4.328772e-16</td>\n",
              "      <td>9.049732e-16</td>\n",
              "      <td>5.085503e-16</td>\n",
              "      <td>1.537294e-16</td>\n",
              "      <td>7.959909e-16</td>\n",
              "      <td>5.367590e-16</td>\n",
              "      <td>4.458112e-15</td>\n",
              "      <td>1.453003e-15</td>\n",
              "      <td>1.699104e-15</td>\n",
              "      <td>-3.660161e-16</td>\n",
              "      <td>-1.206049e-16</td>\n",
              "      <td>88.349619</td>\n",
              "      <td>0.001727</td>\n",
              "    </tr>\n",
              "    <tr>\n",
              "      <th>std</th>\n",
              "      <td>47488.145955</td>\n",
              "      <td>1.958696e+00</td>\n",
              "      <td>1.651309e+00</td>\n",
              "      <td>1.516255e+00</td>\n",
              "      <td>1.415869e+00</td>\n",
              "      <td>1.380247e+00</td>\n",
              "      <td>1.332271e+00</td>\n",
              "      <td>1.237094e+00</td>\n",
              "      <td>1.194353e+00</td>\n",
              "      <td>1.098632e+00</td>\n",
              "      <td>1.088850e+00</td>\n",
              "      <td>1.020713e+00</td>\n",
              "      <td>9.992014e-01</td>\n",
              "      <td>9.952742e-01</td>\n",
              "      <td>9.585956e-01</td>\n",
              "      <td>9.153160e-01</td>\n",
              "      <td>8.762529e-01</td>\n",
              "      <td>8.493371e-01</td>\n",
              "      <td>8.381762e-01</td>\n",
              "      <td>8.140405e-01</td>\n",
              "      <td>7.709250e-01</td>\n",
              "      <td>7.345240e-01</td>\n",
              "      <td>7.257016e-01</td>\n",
              "      <td>6.244603e-01</td>\n",
              "      <td>6.056471e-01</td>\n",
              "      <td>5.212781e-01</td>\n",
              "      <td>4.822270e-01</td>\n",
              "      <td>4.036325e-01</td>\n",
              "      <td>3.300833e-01</td>\n",
              "      <td>250.120109</td>\n",
              "      <td>0.041527</td>\n",
              "    </tr>\n",
              "    <tr>\n",
              "      <th>min</th>\n",
              "      <td>0.000000</td>\n",
              "      <td>-5.640751e+01</td>\n",
              "      <td>-7.271573e+01</td>\n",
              "      <td>-4.832559e+01</td>\n",
              "      <td>-5.683171e+00</td>\n",
              "      <td>-1.137433e+02</td>\n",
              "      <td>-2.616051e+01</td>\n",
              "      <td>-4.355724e+01</td>\n",
              "      <td>-7.321672e+01</td>\n",
              "      <td>-1.343407e+01</td>\n",
              "      <td>-2.458826e+01</td>\n",
              "      <td>-4.797473e+00</td>\n",
              "      <td>-1.868371e+01</td>\n",
              "      <td>-5.791881e+00</td>\n",
              "      <td>-1.921433e+01</td>\n",
              "      <td>-4.498945e+00</td>\n",
              "      <td>-1.412985e+01</td>\n",
              "      <td>-2.516280e+01</td>\n",
              "      <td>-9.498746e+00</td>\n",
              "      <td>-7.213527e+00</td>\n",
              "      <td>-5.449772e+01</td>\n",
              "      <td>-3.483038e+01</td>\n",
              "      <td>-1.093314e+01</td>\n",
              "      <td>-4.480774e+01</td>\n",
              "      <td>-2.836627e+00</td>\n",
              "      <td>-1.029540e+01</td>\n",
              "      <td>-2.604551e+00</td>\n",
              "      <td>-2.256568e+01</td>\n",
              "      <td>-1.543008e+01</td>\n",
              "      <td>0.000000</td>\n",
              "      <td>0.000000</td>\n",
              "    </tr>\n",
              "    <tr>\n",
              "      <th>25%</th>\n",
              "      <td>54201.500000</td>\n",
              "      <td>-9.203734e-01</td>\n",
              "      <td>-5.985499e-01</td>\n",
              "      <td>-8.903648e-01</td>\n",
              "      <td>-8.486401e-01</td>\n",
              "      <td>-6.915971e-01</td>\n",
              "      <td>-7.682956e-01</td>\n",
              "      <td>-5.540759e-01</td>\n",
              "      <td>-2.086297e-01</td>\n",
              "      <td>-6.430976e-01</td>\n",
              "      <td>-5.354257e-01</td>\n",
              "      <td>-7.624942e-01</td>\n",
              "      <td>-4.055715e-01</td>\n",
              "      <td>-6.485393e-01</td>\n",
              "      <td>-4.255740e-01</td>\n",
              "      <td>-5.828843e-01</td>\n",
              "      <td>-4.680368e-01</td>\n",
              "      <td>-4.837483e-01</td>\n",
              "      <td>-4.988498e-01</td>\n",
              "      <td>-4.562989e-01</td>\n",
              "      <td>-2.117214e-01</td>\n",
              "      <td>-2.283949e-01</td>\n",
              "      <td>-5.423504e-01</td>\n",
              "      <td>-1.618463e-01</td>\n",
              "      <td>-3.545861e-01</td>\n",
              "      <td>-3.171451e-01</td>\n",
              "      <td>-3.269839e-01</td>\n",
              "      <td>-7.083953e-02</td>\n",
              "      <td>-5.295979e-02</td>\n",
              "      <td>5.600000</td>\n",
              "      <td>0.000000</td>\n",
              "    </tr>\n",
              "    <tr>\n",
              "      <th>50%</th>\n",
              "      <td>84692.000000</td>\n",
              "      <td>1.810880e-02</td>\n",
              "      <td>6.548556e-02</td>\n",
              "      <td>1.798463e-01</td>\n",
              "      <td>-1.984653e-02</td>\n",
              "      <td>-5.433583e-02</td>\n",
              "      <td>-2.741871e-01</td>\n",
              "      <td>4.010308e-02</td>\n",
              "      <td>2.235804e-02</td>\n",
              "      <td>-5.142873e-02</td>\n",
              "      <td>-9.291738e-02</td>\n",
              "      <td>-3.275735e-02</td>\n",
              "      <td>1.400326e-01</td>\n",
              "      <td>-1.356806e-02</td>\n",
              "      <td>5.060132e-02</td>\n",
              "      <td>4.807155e-02</td>\n",
              "      <td>6.641332e-02</td>\n",
              "      <td>-6.567575e-02</td>\n",
              "      <td>-3.636312e-03</td>\n",
              "      <td>3.734823e-03</td>\n",
              "      <td>-6.248109e-02</td>\n",
              "      <td>-2.945017e-02</td>\n",
              "      <td>6.781943e-03</td>\n",
              "      <td>-1.119293e-02</td>\n",
              "      <td>4.097606e-02</td>\n",
              "      <td>1.659350e-02</td>\n",
              "      <td>-5.213911e-02</td>\n",
              "      <td>1.342146e-03</td>\n",
              "      <td>1.124383e-02</td>\n",
              "      <td>22.000000</td>\n",
              "      <td>0.000000</td>\n",
              "    </tr>\n",
              "    <tr>\n",
              "      <th>75%</th>\n",
              "      <td>139320.500000</td>\n",
              "      <td>1.315642e+00</td>\n",
              "      <td>8.037239e-01</td>\n",
              "      <td>1.027196e+00</td>\n",
              "      <td>7.433413e-01</td>\n",
              "      <td>6.119264e-01</td>\n",
              "      <td>3.985649e-01</td>\n",
              "      <td>5.704361e-01</td>\n",
              "      <td>3.273459e-01</td>\n",
              "      <td>5.971390e-01</td>\n",
              "      <td>4.539234e-01</td>\n",
              "      <td>7.395934e-01</td>\n",
              "      <td>6.182380e-01</td>\n",
              "      <td>6.625050e-01</td>\n",
              "      <td>4.931498e-01</td>\n",
              "      <td>6.488208e-01</td>\n",
              "      <td>5.232963e-01</td>\n",
              "      <td>3.996750e-01</td>\n",
              "      <td>5.008067e-01</td>\n",
              "      <td>4.589494e-01</td>\n",
              "      <td>1.330408e-01</td>\n",
              "      <td>1.863772e-01</td>\n",
              "      <td>5.285536e-01</td>\n",
              "      <td>1.476421e-01</td>\n",
              "      <td>4.395266e-01</td>\n",
              "      <td>3.507156e-01</td>\n",
              "      <td>2.409522e-01</td>\n",
              "      <td>9.104512e-02</td>\n",
              "      <td>7.827995e-02</td>\n",
              "      <td>77.165000</td>\n",
              "      <td>0.000000</td>\n",
              "    </tr>\n",
              "    <tr>\n",
              "      <th>max</th>\n",
              "      <td>172792.000000</td>\n",
              "      <td>2.454930e+00</td>\n",
              "      <td>2.205773e+01</td>\n",
              "      <td>9.382558e+00</td>\n",
              "      <td>1.687534e+01</td>\n",
              "      <td>3.480167e+01</td>\n",
              "      <td>7.330163e+01</td>\n",
              "      <td>1.205895e+02</td>\n",
              "      <td>2.000721e+01</td>\n",
              "      <td>1.559499e+01</td>\n",
              "      <td>2.374514e+01</td>\n",
              "      <td>1.201891e+01</td>\n",
              "      <td>7.848392e+00</td>\n",
              "      <td>7.126883e+00</td>\n",
              "      <td>1.052677e+01</td>\n",
              "      <td>8.877742e+00</td>\n",
              "      <td>1.731511e+01</td>\n",
              "      <td>9.253526e+00</td>\n",
              "      <td>5.041069e+00</td>\n",
              "      <td>5.591971e+00</td>\n",
              "      <td>3.942090e+01</td>\n",
              "      <td>2.720284e+01</td>\n",
              "      <td>1.050309e+01</td>\n",
              "      <td>2.252841e+01</td>\n",
              "      <td>4.584549e+00</td>\n",
              "      <td>7.519589e+00</td>\n",
              "      <td>3.517346e+00</td>\n",
              "      <td>3.161220e+01</td>\n",
              "      <td>3.384781e+01</td>\n",
              "      <td>25691.160000</td>\n",
              "      <td>1.000000</td>\n",
              "    </tr>\n",
              "  </tbody>\n",
              "</table>\n",
              "</div>"
            ],
            "text/plain": [
              "                Time            V1  ...         Amount          Class\n",
              "count  284807.000000  2.848070e+05  ...  284807.000000  284807.000000\n",
              "mean    94813.859575  3.919560e-15  ...      88.349619       0.001727\n",
              "std     47488.145955  1.958696e+00  ...     250.120109       0.041527\n",
              "min         0.000000 -5.640751e+01  ...       0.000000       0.000000\n",
              "25%     54201.500000 -9.203734e-01  ...       5.600000       0.000000\n",
              "50%     84692.000000  1.810880e-02  ...      22.000000       0.000000\n",
              "75%    139320.500000  1.315642e+00  ...      77.165000       0.000000\n",
              "max    172792.000000  2.454930e+00  ...   25691.160000       1.000000\n",
              "\n",
              "[8 rows x 31 columns]"
            ]
          },
          "metadata": {
            "tags": []
          },
          "execution_count": 63
        }
      ]
    },
    {
      "cell_type": "code",
      "metadata": {
        "colab": {
          "base_uri": "https://localhost:8080/"
        },
        "id": "I5WEypXfZ82X",
        "outputId": "d34bc399-65a4-4c97-ce60-999afc01aa14"
      },
      "source": [
        "data.dtypes"
      ],
      "execution_count": 64,
      "outputs": [
        {
          "output_type": "execute_result",
          "data": {
            "text/plain": [
              "Time      float64\n",
              "V1        float64\n",
              "V2        float64\n",
              "V3        float64\n",
              "V4        float64\n",
              "V5        float64\n",
              "V6        float64\n",
              "V7        float64\n",
              "V8        float64\n",
              "V9        float64\n",
              "V10       float64\n",
              "V11       float64\n",
              "V12       float64\n",
              "V13       float64\n",
              "V14       float64\n",
              "V15       float64\n",
              "V16       float64\n",
              "V17       float64\n",
              "V18       float64\n",
              "V19       float64\n",
              "V20       float64\n",
              "V21       float64\n",
              "V22       float64\n",
              "V23       float64\n",
              "V24       float64\n",
              "V25       float64\n",
              "V26       float64\n",
              "V27       float64\n",
              "V28       float64\n",
              "Amount    float64\n",
              "Class       int64\n",
              "dtype: object"
            ]
          },
          "metadata": {
            "tags": []
          },
          "execution_count": 64
        }
      ]
    },
    {
      "cell_type": "code",
      "metadata": {
        "colab": {
          "base_uri": "https://localhost:8080/"
        },
        "id": "j2E9SlHJzynn",
        "outputId": "85937719-11af-4967-c96d-80610d2bd4d1"
      },
      "source": [
        "data.isnull().values.any()"
      ],
      "execution_count": 65,
      "outputs": [
        {
          "output_type": "execute_result",
          "data": {
            "text/plain": [
              "False"
            ]
          },
          "metadata": {
            "tags": []
          },
          "execution_count": 65
        }
      ]
    },
    {
      "cell_type": "markdown",
      "metadata": {
        "id": "mLZL9h4y4zck"
      },
      "source": [
        "**Empty list as none of the columns contain null values**"
      ]
    },
    {
      "cell_type": "code",
      "metadata": {
        "colab": {
          "base_uri": "https://localhost:8080/"
        },
        "id": "Yfia75g1K05R",
        "outputId": "63da75c2-ab44-4a08-a5c0-b0e982de56de"
      },
      "source": [
        "data.columns[data.isna().any()].tolist()"
      ],
      "execution_count": 66,
      "outputs": [
        {
          "output_type": "execute_result",
          "data": {
            "text/plain": [
              "[]"
            ]
          },
          "metadata": {
            "tags": []
          },
          "execution_count": 66
        }
      ]
    },
    {
      "cell_type": "code",
      "metadata": {
        "colab": {
          "base_uri": "https://localhost:8080/"
        },
        "id": "xOzh7S33vjVa",
        "outputId": "13025f79-3fd9-4fb8-d934-ed2cbfc75db1"
      },
      "source": [
        "data.nunique()"
      ],
      "execution_count": 67,
      "outputs": [
        {
          "output_type": "execute_result",
          "data": {
            "text/plain": [
              "Time      124592\n",
              "V1        275663\n",
              "V2        275663\n",
              "V3        275663\n",
              "V4        275663\n",
              "V5        275663\n",
              "V6        275663\n",
              "V7        275663\n",
              "V8        275663\n",
              "V9        275663\n",
              "V10       275663\n",
              "V11       275663\n",
              "V12       275663\n",
              "V13       275663\n",
              "V14       275663\n",
              "V15       275663\n",
              "V16       275663\n",
              "V17       275663\n",
              "V18       275663\n",
              "V19       275663\n",
              "V20       275663\n",
              "V21       275663\n",
              "V22       275663\n",
              "V23       275663\n",
              "V24       275663\n",
              "V25       275663\n",
              "V26       275663\n",
              "V27       275663\n",
              "V28       275663\n",
              "Amount     32767\n",
              "Class          2\n",
              "dtype: int64"
            ]
          },
          "metadata": {
            "tags": []
          },
          "execution_count": 67
        }
      ]
    },
    {
      "cell_type": "code",
      "metadata": {
        "colab": {
          "base_uri": "https://localhost:8080/"
        },
        "id": "zCnfXP4mNorU",
        "outputId": "6357a064-d870-45c0-f7eb-4bd780323242"
      },
      "source": [
        " data.isna().any()"
      ],
      "execution_count": 68,
      "outputs": [
        {
          "output_type": "execute_result",
          "data": {
            "text/plain": [
              "Time      False\n",
              "V1        False\n",
              "V2        False\n",
              "V3        False\n",
              "V4        False\n",
              "V5        False\n",
              "V6        False\n",
              "V7        False\n",
              "V8        False\n",
              "V9        False\n",
              "V10       False\n",
              "V11       False\n",
              "V12       False\n",
              "V13       False\n",
              "V14       False\n",
              "V15       False\n",
              "V16       False\n",
              "V17       False\n",
              "V18       False\n",
              "V19       False\n",
              "V20       False\n",
              "V21       False\n",
              "V22       False\n",
              "V23       False\n",
              "V24       False\n",
              "V25       False\n",
              "V26       False\n",
              "V27       False\n",
              "V28       False\n",
              "Amount    False\n",
              "Class     False\n",
              "dtype: bool"
            ]
          },
          "metadata": {
            "tags": []
          },
          "execution_count": 68
        }
      ]
    },
    {
      "cell_type": "code",
      "metadata": {
        "colab": {
          "base_uri": "https://localhost:8080/"
        },
        "id": "5m8OxG7QaLZO",
        "outputId": "060b55f4-a935-4094-ba4c-5b71482d94e0"
      },
      "source": [
        "data.dtypes"
      ],
      "execution_count": 69,
      "outputs": [
        {
          "output_type": "execute_result",
          "data": {
            "text/plain": [
              "Time      float64\n",
              "V1        float64\n",
              "V2        float64\n",
              "V3        float64\n",
              "V4        float64\n",
              "V5        float64\n",
              "V6        float64\n",
              "V7        float64\n",
              "V8        float64\n",
              "V9        float64\n",
              "V10       float64\n",
              "V11       float64\n",
              "V12       float64\n",
              "V13       float64\n",
              "V14       float64\n",
              "V15       float64\n",
              "V16       float64\n",
              "V17       float64\n",
              "V18       float64\n",
              "V19       float64\n",
              "V20       float64\n",
              "V21       float64\n",
              "V22       float64\n",
              "V23       float64\n",
              "V24       float64\n",
              "V25       float64\n",
              "V26       float64\n",
              "V27       float64\n",
              "V28       float64\n",
              "Amount    float64\n",
              "Class       int64\n",
              "dtype: object"
            ]
          },
          "metadata": {
            "tags": []
          },
          "execution_count": 69
        }
      ]
    },
    {
      "cell_type": "markdown",
      "metadata": {
        "id": "urK2piSI5OCl"
      },
      "source": [
        "**Imbalance of the dataset Exploration**"
      ]
    },
    {
      "cell_type": "code",
      "metadata": {
        "colab": {
          "base_uri": "https://localhost:8080/"
        },
        "id": "lVMhDGZnxnVy",
        "outputId": "a5e61b87-b4de-42f4-f04e-0b626754d7d0"
      },
      "source": [
        "print('Imbalance of dataset')\n",
        "print(data['Class'].value_counts() / len(data))"
      ],
      "execution_count": 70,
      "outputs": [
        {
          "output_type": "stream",
          "text": [
            "Imbalance of dataset\n",
            "0    0.998273\n",
            "1    0.001727\n",
            "Name: Class, dtype: float64\n"
          ],
          "name": "stdout"
        }
      ]
    },
    {
      "cell_type": "code",
      "metadata": {
        "colab": {
          "base_uri": "https://localhost:8080/"
        },
        "id": "gyOn2vaqxskn",
        "outputId": "0495a183-acd0-4cb8-a78b-8006b82f82ee"
      },
      "source": [
        "print(pd.value_counts(data['Class']))"
      ],
      "execution_count": 71,
      "outputs": [
        {
          "output_type": "stream",
          "text": [
            "0    284315\n",
            "1       492\n",
            "Name: Class, dtype: int64\n"
          ],
          "name": "stdout"
        }
      ]
    },
    {
      "cell_type": "code",
      "metadata": {
        "colab": {
          "base_uri": "https://localhost:8080/",
          "height": 279
        },
        "id": "Pn_FQqFLzyhJ",
        "outputId": "87c3d5c6-df48-46ea-87b8-721966a0aca5"
      },
      "source": [
        "data['Class'].value_counts().plot.bar()"
      ],
      "execution_count": 72,
      "outputs": [
        {
          "output_type": "execute_result",
          "data": {
            "text/plain": [
              "<matplotlib.axes._subplots.AxesSubplot at 0x7f070c497b90>"
            ]
          },
          "metadata": {
            "tags": []
          },
          "execution_count": 72
        },
        {
          "output_type": "display_data",
          "data": {
            "image/png": "[encoded data removed]",
            "text/plain": [
              "<Figure size 432x288 with 1 Axes>"
            ]
          },
          "metadata": {
            "tags": [],
            "needs_background": "light"
          }
        }
      ]
    },
    {
      "cell_type": "markdown",
      "metadata": {
        "id": "V_DxtmXW1BNx"
      },
      "source": [
        "**When Originally creating a Support Vector Machine, I trained the data using 75% of all the data and testing on the remaining 25%. this yielded an accuracy of 100%. this could have been because the model was overtrained or all the predictions made were non fraud and there was no fraud transactions in the test dataset. To further investigate the result of the SVM, it will be trained on equal fraud and non fraud transactions and tested with all the data**"
      ]
    },
    {
      "cell_type": "markdown",
      "metadata": {
        "id": "N1nLL1Q05XJc"
      },
      "source": [
        "**Creating A balanced dataset which takes the frauduent transactions and randomised non fraudulent transactions. A new dataset is created by adding the 492 fraudulent records and randomly adding 492 non fraudulent records to the dataset**"
      ]
    },
    {
      "cell_type": "code",
      "metadata": {
        "colab": {
          "base_uri": "https://localhost:8080/"
        },
        "id": "uX7hYv7e82wb",
        "outputId": "c89376fb-4f2d-457a-e26a-bd07b6c4f40f"
      },
      "source": [
        "newDataSet = data[data['Class'] == 1]\n",
        "newDataSet2 = data[data['Class'] == 0]\n",
        "newDataSet2 = newDataSet2.sample(n = 492)\n",
        "data2 = pd.concat([newDataSet2, newDataSet])\n",
        "print(len(data2))"
      ],
      "execution_count": 73,
      "outputs": [
        {
          "output_type": "stream",
          "text": [
            "984\n"
          ],
          "name": "stdout"
        }
      ]
    },
    {
      "cell_type": "markdown",
      "metadata": {
        "id": "uS2fNpak5mdk"
      },
      "source": [
        "**Removing the column class which indictates that the transaction is fraudulent or not, the class column is assigned to act as the target vales dataset**"
      ]
    },
    {
      "cell_type": "code",
      "metadata": {
        "id": "MrroGEJdzyex"
      },
      "source": [
        "X = np.array(data2.loc[:, data2.columns != 'Class'])\n",
        "y = np.array(data2.loc[:, data2.columns == 'Class']).reshape(-1, 1)"
      ],
      "execution_count": 74,
      "outputs": []
    },
    {
      "cell_type": "code",
      "metadata": {
        "colab": {
          "base_uri": "https://localhost:8080/"
        },
        "id": "tdiiIZ1mSI4a",
        "outputId": "344c740d-cd95-434e-cd3b-249c52213434"
      },
      "source": [
        "print(len(X))\n",
        "print(len(y))"
      ],
      "execution_count": 75,
      "outputs": [
        {
          "output_type": "stream",
          "text": [
            "984\n",
            "984\n"
          ],
          "name": "stdout"
        }
      ]
    },
    {
      "cell_type": "markdown",
      "metadata": {
        "id": "78xc4WKw9HcK"
      },
      "source": [
        "**the model is trained on a 75% of the data and verified using the other the 25% of the data**"
      ]
    },
    {
      "cell_type": "code",
      "metadata": {
        "id": "Mv7Vkf4ozyct"
      },
      "source": [
        "# split into training and testing datasets\n",
        "from sklearn.model_selection import train_test_split\n",
        "X_train, X_test, y_train, y_test = train_test_split(X, y, test_size = 0.25, random_state = 2, shuffle = True, stratify = y)"
      ],
      "execution_count": 76,
      "outputs": []
    },
    {
      "cell_type": "code",
      "metadata": {
        "id": "l7zIlQMCzyae"
      },
      "source": [
        "from sklearn.metrics import accuracy_score\n",
        "from sklearn import svm\n",
        "clf = svm.SVC(kernel='linear',C=1,random_state=0)"
      ],
      "execution_count": 77,
      "outputs": []
    },
    {
      "cell_type": "code",
      "metadata": {
        "colab": {
          "base_uri": "https://localhost:8080/"
        },
        "id": "J4NXTbm61kNj",
        "outputId": "7bbf9b4d-bbeb-4be3-945d-d4b8d5a180a4"
      },
      "source": [
        "print(len(X_train))\n",
        "print(len(X_test))\n",
        "print(len(y_train))\n",
        "print(len(y_test))"
      ],
      "execution_count": 78,
      "outputs": [
        {
          "output_type": "stream",
          "text": [
            "738\n",
            "246\n",
            "738\n",
            "246\n"
          ],
          "name": "stdout"
        }
      ]
    },
    {
      "cell_type": "markdown",
      "metadata": {
        "id": "6bDDR_656E__"
      },
      "source": [
        "**A linear Support Vector Machine is used to train out model. the SVM was chosen using the cheat sheet. it is trained on the split dataset and the test dataset is used to verify the validity of the model**"
      ]
    },
    {
      "cell_type": "code",
      "metadata": {
        "id": "288cnjfozyYB"
      },
      "source": [
        "# fit the model\n",
        "clf.fit(X_train, y_train.ravel())\n",
        "\n",
        "# prediction for Training data\n",
        "train_pred = clf.predict(X_train)\n",
        "\n",
        "# prediction for Testing data\n",
        "test_pred = clf.predict(X_test)\n"
      ],
      "execution_count": 79,
      "outputs": []
    },
    {
      "cell_type": "markdown",
      "metadata": {
        "id": "L1WC03E-7ISX"
      },
      "source": [
        "**A correlation Matrix was used to display the result of the SVM**"
      ]
    },
    {
      "cell_type": "code",
      "metadata": {
        "colab": {
          "base_uri": "https://localhost:8080/",
          "height": 730
        },
        "id": "_aDjJ6aIzyUD",
        "outputId": "bafa9854-08f1-4dab-aa0a-bc1b0b7c34ac"
      },
      "source": [
        "from sklearn.metrics import confusion_matrix, precision_recall_curve\n",
        "import seaborn as sns\n",
        "LABELS = [\"Fraud\", \"Non-Fraud\"]\n",
        "conf_matrix = confusion_matrix(y_train,train_pred)\n",
        "\n",
        "plt.figure(figsize=(12, 12))\n",
        "sns.heatmap(conf_matrix, xticklabels=LABELS, yticklabels=LABELS, annot=True, fmt=\"d\");\n",
        "plt.title(\"Confusion matrix\")\n",
        "plt.ylabel('True class')\n",
        "plt.xlabel('Predicted class')\n",
        "plt.show()"
      ],
      "execution_count": 80,
      "outputs": [
        {
          "output_type": "display_data",
          "data": {
            "image/png": "[encoded data removed]",
            "text/plain": [
              "<Figure size 864x864 with 2 Axes>"
            ]
          },
          "metadata": {
            "tags": [],
            "needs_background": "light"
          }
        }
      ]
    },
    {
      "cell_type": "code",
      "metadata": {
        "colab": {
          "base_uri": "https://localhost:8080/"
        },
        "id": "AR8USlgyzyPU",
        "outputId": "0b515528-3abb-47ae-a808-7b8951303a0e"
      },
      "source": [
        "print('Accuracy score for Training Dataset = ', accuracy_score(y_train,train_pred)*100)"
      ],
      "execution_count": 81,
      "outputs": [
        {
          "output_type": "stream",
          "text": [
            "Accuracy score for Training Dataset =  90.2439024390244\n"
          ],
          "name": "stdout"
        }
      ]
    },
    {
      "cell_type": "markdown",
      "metadata": {
        "id": "4n0s5nlfyTdO"
      },
      "source": [
        "**ALL Data Used for Testing**"
      ]
    },
    {
      "cell_type": "markdown",
      "metadata": {
        "id": "PYy9NaIBMfjJ"
      },
      "source": [
        "the whole dataset was used to test the model created. the model was previously trained and tested using 984 records. this time it is going to make the prediction on all 284807 which includes th records ut has already being trained and tested on."
      ]
    },
    {
      "cell_type": "code",
      "metadata": {
        "colab": {
          "base_uri": "https://localhost:8080/"
        },
        "id": "7X_eWaHdWq6M",
        "outputId": "0ffce5be-b012-4512-ddd6-9d1bc3fb0106"
      },
      "source": [
        "X_all = np.array(data.loc[:, data.columns != 'Class'])\n",
        "y_all = np.array(data.loc[:, data.columns == 'Class']).reshape(-1, 1)\n",
        "\n",
        "print(len(X_all))\n",
        "print(len(y_all))"
      ],
      "execution_count": 82,
      "outputs": [
        {
          "output_type": "stream",
          "text": [
            "284807\n",
            "284807\n"
          ],
          "name": "stdout"
        }
      ]
    },
    {
      "cell_type": "code",
      "metadata": {
        "colab": {
          "base_uri": "https://localhost:8080/",
          "height": 730
        },
        "id": "gr8hwRgRZ_tH",
        "outputId": "3320d680-6938-4579-ef83-3bb012b14e95"
      },
      "source": [
        "test_pred = clf.predict(X_all)\n",
        "\n",
        "from sklearn.metrics import confusion_matrix, precision_recall_curve\n",
        "import seaborn as sns\n",
        "LABELS = [\"Fraud\", \"Non-Fraud\"]\n",
        "conf_matrix = confusion_matrix(y_all,test_pred)\n",
        "\n",
        "plt.figure(figsize=(12, 12))\n",
        "sns.heatmap(conf_matrix, xticklabels=LABELS, yticklabels=LABELS, annot=True, fmt=\"d\");\n",
        "plt.title(\"Confusion matrix\")\n",
        "plt.ylabel('True class')\n",
        "plt.xlabel('Predicted class')\n",
        "plt.show()"
      ],
      "execution_count": 83,
      "outputs": [
        {
          "output_type": "display_data",
          "data": {
            "image/png": "[encoded data removed]",
            "text/plain": [
              "<Figure size 864x864 with 2 Axes>"
            ]
          },
          "metadata": {
            "tags": [],
            "needs_background": "light"
          }
        }
      ]
    },
    {
      "cell_type": "code",
      "metadata": {
        "colab": {
          "base_uri": "https://localhost:8080/"
        },
        "id": "mM4ON1NbeW-Q",
        "outputId": "f8104f79-9423-4e5e-c576-eadd79e09885"
      },
      "source": [
        "print('Accuracy score for Training Dataset = ', accuracy_score(y_all,test_pred)*100)"
      ],
      "execution_count": 84,
      "outputs": [
        {
          "output_type": "stream",
          "text": [
            "Accuracy score for Training Dataset =  99.52388810668276\n"
          ],
          "name": "stdout"
        }
      ]
    },
    {
      "cell_type": "markdown",
      "metadata": {
        "id": "K1LmHeDaMs5o"
      },
      "source": [
        "**This time the data was tested where all the data was non fraudulent except for 42 records. the model will try and correctly identify the records into the correct category.**"
      ]
    },
    {
      "cell_type": "code",
      "metadata": {
        "colab": {
          "base_uri": "https://localhost:8080/"
        },
        "id": "GI2cmQT1hyVc",
        "outputId": "cfb38b67-0dc3-4ee3-dd00-218dee6dd4ee"
      },
      "source": [
        "remainingData = data\n",
        "newDataSet_fraud = data[data['Class'] == 1]\n",
        "newDataSet_nonFraud = data[data['Class'] == 0]\n",
        "newDataSet_fraud = newDataSet_fraud.sample(n = 450)\n",
        "newDataSet_nonFraud = newDataSet_nonFraud.sample(n = 213600)\n",
        "\n",
        "dataWithMajorityFraud = pd.concat([newDataSet_fraud, newDataSet_nonFraud])\n",
        "remainingData = remainingData[~remainingData.isin(dataWithMajorityFraud)].dropna()\n",
        "\n",
        "print(len(newDataSet_nonFraud))\n",
        "print(len(newDataSet_fraud))\n",
        "print(len(dataWithMajorityFraud))\n",
        "print(len(remainingData))"
      ],
      "execution_count": 85,
      "outputs": [
        {
          "output_type": "stream",
          "text": [
            "213600\n",
            "450\n",
            "214050\n",
            "70757\n"
          ],
          "name": "stdout"
        }
      ]
    },
    {
      "cell_type": "code",
      "metadata": {
        "id": "FecXEbWan3bA"
      },
      "source": [
        "X_someFraud_train = np.array(dataWithMajorityFraud.loc[:, dataWithMajorityFraud.columns != 'Class'])\n",
        "y_someFraud_train = np.array(dataWithMajorityFraud.loc[:, dataWithMajorityFraud.columns == 'Class']).reshape(-1, 1)\n",
        "\n",
        "X_someFraud_test = np.array(remainingData.loc[:, remainingData.columns != 'Class'])\n",
        "y_someFraud_test = np.array(remainingData.loc[:, remainingData.columns == 'Class']).reshape(-1, 1)"
      ],
      "execution_count": 86,
      "outputs": []
    },
    {
      "cell_type": "code",
      "metadata": {
        "id": "rAM9A3mUpDRW"
      },
      "source": [
        "#clf.fit(X_someFraud_train, y_someFraud_train.ravel())\n",
        "\n",
        "# prediction for Testing data\n",
        "test_pred = clf.predict(X_someFraud_test)"
      ],
      "execution_count": 87,
      "outputs": []
    },
    {
      "cell_type": "code",
      "metadata": {
        "colab": {
          "base_uri": "https://localhost:8080/",
          "height": 730
        },
        "id": "Z1lHv3QZpDRX",
        "outputId": "abdaef19-dc03-472c-9baa-054522ea77f8"
      },
      "source": [
        "from sklearn.metrics import confusion_matrix, precision_recall_curve\n",
        "import seaborn as sns\n",
        "LABELS = [\"Non-Fraud\", \"Fraud\"]\n",
        "conf_matrix = confusion_matrix(y_someFraud_test,test_pred)\n",
        "\n",
        "plt.figure(figsize=(12, 12))\n",
        "sns.heatmap(conf_matrix, xticklabels=LABELS, yticklabels=LABELS, annot=True, fmt=\"d\");\n",
        "plt.title(\"Confusion matrix\")\n",
        "plt.ylabel('True class')\n",
        "plt.xlabel('Predicted class')\n",
        "plt.show()"
      ],
      "execution_count": 88,
      "outputs": [
        {
          "output_type": "display_data",
          "data": {
            "image/png": "[encoded data removed]",
            "text/plain": [
              "<Figure size 864x864 with 2 Axes>"
            ]
          },
          "metadata": {
            "tags": [],
            "needs_background": "light"
          }
        }
      ]
    },
    {
      "cell_type": "code",
      "metadata": {
        "colab": {
          "base_uri": "https://localhost:8080/"
        },
        "id": "DXQ53oN-r8ZN",
        "outputId": "e7c9a806-ff34-411a-8754-56ae285abdda"
      },
      "source": [
        "print('Accuracy score for Training Dataset = ', accuracy_score(y_someFraud_test,test_pred)*100)"
      ],
      "execution_count": 89,
      "outputs": [
        {
          "output_type": "stream",
          "text": [
            "Accuracy score for Training Dataset =  99.51665559591277\n"
          ],
          "name": "stdout"
        }
      ]
    },
    {
      "cell_type": "code",
      "metadata": {
        "colab": {
          "base_uri": "https://localhost:8080/"
        },
        "id": "jBDlTObAsKHk",
        "outputId": "c50cbf92-6d0c-4def-c38a-33d174e5e7ac"
      },
      "source": [
        "AccuracyForFraud = (35/42)*100\n",
        "AccuracyForFraud = \"{:.2f}\".format(AccuracyForFraud)\n",
        "print('Accuracy score for the Fraudulent Data = ' +str(AccuracyForFraud)+' %')\n"
      ],
      "execution_count": 90,
      "outputs": [
        {
          "output_type": "stream",
          "text": [
            "Accuracy score for the Fraudulent Data = 83.33 %\n"
          ],
          "name": "stdout"
        }
      ]
    },
    {
      "cell_type": "markdown",
      "metadata": {
        "id": "QyrBVU5GDPAi"
      },
      "source": [
        "**Reciprocal Data- there is a lot of data records that have a corresponding record with the same time instance. this lead to the belief that maybe the transaction from 1 account was going to another account and then although there looks like the data has no links in it, these would mean they have an existing relationship that we did not known about. to combat this I only kept a singular record that happened at a singular time value**"
      ]
    },
    {
      "cell_type": "code",
      "metadata": {
        "colab": {
          "base_uri": "https://localhost:8080/"
        },
        "id": "EodPAqfIDOIt",
        "outputId": "f2803110-c137-49ce-8385-5bb3604eb5d6"
      },
      "source": [
        "reciprocalDataRemoved = data.drop_duplicates('Time')\n",
        "print(len(reciprocalDataRemoved))"
      ],
      "execution_count": 91,
      "outputs": [
        {
          "output_type": "stream",
          "text": [
            "124592\n"
          ],
          "name": "stdout"
        }
      ]
    },
    {
      "cell_type": "code",
      "metadata": {
        "id": "S0xYg93OI-f8"
      },
      "source": [
        "X = np.array(reciprocalDataRemoved.loc[:, reciprocalDataRemoved.columns != 'Class'])\n",
        "y = np.array(reciprocalDataRemoved.loc[:, reciprocalDataRemoved.columns == 'Class']).reshape(-1, 1)"
      ],
      "execution_count": 92,
      "outputs": []
    },
    {
      "cell_type": "code",
      "metadata": {
        "id": "WwyaMYASI-Xl"
      },
      "source": [
        "X_train_rdr, X_test_rdr, y_train_rdr, y_test_rdr = train_test_split(X, y, test_size = 0.25, random_state = 2, shuffle = True, stratify = y)"
      ],
      "execution_count": 93,
      "outputs": []
    },
    {
      "cell_type": "code",
      "metadata": {
        "colab": {
          "base_uri": "https://localhost:8080/"
        },
        "id": "eIH9fN0BNyD3",
        "outputId": "bec3e151-358a-4957-cc83-e2e0b1b9bb44"
      },
      "source": [
        "print(len(reciprocalDataRemoved))\n",
        "print(len(X))\n",
        "print(len(y))\n",
        "print(len(X_train_rdr))\n",
        "print(len(X_test_rdr))\n",
        "print(len(y_train_rdr))\n",
        "print(len(y_test_rdr))"
      ],
      "execution_count": 94,
      "outputs": [
        {
          "output_type": "stream",
          "text": [
            "124592\n",
            "124592\n",
            "124592\n",
            "93444\n",
            "31148\n",
            "93444\n",
            "31148\n"
          ],
          "name": "stdout"
        }
      ]
    },
    {
      "cell_type": "code",
      "metadata": {
        "id": "AEAZWNn9Jh7O"
      },
      "source": [
        "# fit the model\n",
        "clf.fit(X_train_rdr, y_train_rdr.ravel())\n",
        "\n",
        "# prediction for Testing data\n",
        "test_pred = clf.predict(X_test_rdr)\n"
      ],
      "execution_count": 95,
      "outputs": []
    },
    {
      "cell_type": "code",
      "metadata": {
        "colab": {
          "base_uri": "https://localhost:8080/",
          "height": 730
        },
        "id": "thQ7BDO0Jh7g",
        "outputId": "f4feaaa2-2396-486e-eff8-0e7f72603259"
      },
      "source": [
        "from sklearn.metrics import confusion_matrix, precision_recall_curve\n",
        "import seaborn as sns\n",
        "LABELS = [\"Fraud\", \"Non-Fraud\"]\n",
        "conf_matrix = confusion_matrix(y_test_rdr,test_pred)\n",
        "\n",
        "plt.figure(figsize=(12, 12))\n",
        "sns.heatmap(conf_matrix, xticklabels=LABELS, yticklabels=LABELS, annot=True, fmt=\"d\");\n",
        "plt.title(\"Confusion matrix\")\n",
        "plt.ylabel('True class')\n",
        "plt.xlabel('Predicted class')\n",
        "plt.show()"
      ],
      "execution_count": 96,
      "outputs": [
        {
          "output_type": "display_data",
          "data": {
            "image/png": "[encoded data removed]",
            "text/plain": [
              "<Figure size 864x864 with 2 Axes>"
            ]
          },
          "metadata": {
            "tags": [],
            "needs_background": "light"
          }
        }
      ]
    },
    {
      "cell_type": "code",
      "metadata": {
        "colab": {
          "base_uri": "https://localhost:8080/"
        },
        "id": "0E676hW8JXiR",
        "outputId": "ae7fb413-6708-47e4-ac4a-bdd5c59d72b7"
      },
      "source": [
        "print('Accuracy score for Training Dataset = ', accuracy_score(y_test_rdr,test_pred)*100)"
      ],
      "execution_count": 97,
      "outputs": [
        {
          "output_type": "stream",
          "text": [
            "Accuracy score for Training Dataset =  99.82342365480929\n"
          ],
          "name": "stdout"
        }
      ]
    },
    {
      "cell_type": "markdown",
      "metadata": {
        "id": "PNkaLS2WDPCo"
      },
      "source": [
        "**KFold Section I created a KFOLD with 5 splits that randomly shuffled the data** "
      ]
    },
    {
      "cell_type": "code",
      "metadata": {
        "id": "MfiuY3hnW-s-"
      },
      "source": [
        "from sklearn.model_selection import KFold"
      ],
      "execution_count": 98,
      "outputs": []
    },
    {
      "cell_type": "code",
      "metadata": {
        "id": "TeqgjrwXXB5k"
      },
      "source": [
        "kfold = KFold(n_splits=5,shuffle=True,random_state=10)"
      ],
      "execution_count": 99,
      "outputs": []
    },
    {
      "cell_type": "code",
      "metadata": {
        "colab": {
          "base_uri": "https://localhost:8080/"
        },
        "id": "CbnVYpYTqsxm",
        "outputId": "02b56ff6-e1d1-4301-9cd7-ad2d522ef5b4"
      },
      "source": [
        "outcomes = []\n",
        "for train_index, test_index in kfold.split(X):\n",
        "  Xtrain, Xtest = X[train_index], X[test_index]\n",
        "  ytrain, ytest = y[train_index], y[test_index]\n",
        "  clf.fit(Xtrain, ytrain.ravel())\n",
        "  predictions = clf.predict(Xtest)\n",
        "  accuracy = accuracy_score(ytest.ravel(), predictions)\n",
        "  print(accuracy)\n",
        "  outcomes.append(accuracy)\n",
        "mean_outcome = np.mean(outcomes)\n",
        "print(\"Mean Accuracy: {0}\".format(mean_outcome)) "
      ],
      "execution_count": 100,
      "outputs": [
        {
          "output_type": "stream",
          "text": [
            "0.998194149042899\n",
            "0.998635579276857\n",
            "0.9983144714664098\n",
            "0.9980736816758969\n",
            "0.9987157877839313\n",
            "Mean Accuracy: 0.9983867338491988\n"
          ],
          "name": "stdout"
        }
      ]
    },
    {
      "cell_type": "code",
      "metadata": {
        "id": "6CJhY7ZH7xxE"
      },
      "source": [
        ""
      ],
      "execution_count": 100,
      "outputs": []
    },
    {
      "cell_type": "markdown",
      "metadata": {
        "id": "kplxmzoeS3HO"
      },
      "source": [
        "**PCA - Principle Component Analysis**"
      ]
    },
    {
      "cell_type": "code",
      "metadata": {
        "id": "U-DEItd9Wss3"
      },
      "source": [
        "from sklearn.decomposition import PCA"
      ],
      "execution_count": 101,
      "outputs": []
    },
    {
      "cell_type": "code",
      "metadata": {
        "id": "FkqqloxkWsno"
      },
      "source": [
        "pca = PCA(n_components = 5)"
      ],
      "execution_count": 102,
      "outputs": []
    },
    {
      "cell_type": "code",
      "metadata": {
        "id": "dqJn_yqUWsiW"
      },
      "source": [
        "from sklearn.utils import shuffle\n",
        "X_train = data2\n",
        "X_train = shuffle(X_train)"
      ],
      "execution_count": 103,
      "outputs": []
    },
    {
      "cell_type": "code",
      "metadata": {
        "id": "lTFDeri3LPet"
      },
      "source": [
        "X = np.array(X_train.loc[:, X_train.columns != 'Class'])\n",
        "y = np.array(X_train.loc[:, X_train.columns == 'Class']).reshape(-1, 1)"
      ],
      "execution_count": 104,
      "outputs": []
    },
    {
      "cell_type": "code",
      "metadata": {
        "id": "2LpIIyEbWsai"
      },
      "source": [
        "X_train_pca = pca.fit_transform(X)"
      ],
      "execution_count": 105,
      "outputs": []
    },
    {
      "cell_type": "code",
      "metadata": {
        "colab": {
          "base_uri": "https://localhost:8080/"
        },
        "id": "EUKTELKC3i_j",
        "outputId": "b48d3945-4776-4281-afe5-16617c2f3f7b"
      },
      "source": [
        "print(X_train_pca)"
      ],
      "execution_count": 106,
      "outputs": [
        {
          "output_type": "stream",
          "text": [
            "[[ 1.71448752e+04 -9.08953350e+01 -1.07557752e+01  1.11577979e+00\n",
            "  -7.16251879e-01]\n",
            " [ 5.45858926e+04  3.49008957e+01 -1.36124536e+01  1.36597424e+00\n",
            "  -1.67091335e-01]\n",
            " [ 2.25658862e+04 -1.01380948e+01 -1.11571831e+01  9.80169611e-01\n",
            "  -7.53682407e-01]\n",
            " ...\n",
            " [ 5.56078732e+04 -1.12673703e+02 -4.67030565e+00 -2.55025279e+00\n",
            "   2.33880185e+00]\n",
            " [-5.50601254e+04 -9.65620912e+01  3.39349003e+00 -3.80305575e+00\n",
            "   2.31495027e+00]\n",
            " [-5.53581113e+04  1.14950841e+01 -5.08456039e+00  1.89114951e-01\n",
            "  -1.20777043e+00]]\n"
          ],
          "name": "stdout"
        }
      ]
    },
    {
      "cell_type": "code",
      "metadata": {
        "colab": {
          "base_uri": "https://localhost:8080/"
        },
        "id": "QqogHEqA3i5L",
        "outputId": "a4c98359-dbaa-4276-d226-bf1d4fc54619"
      },
      "source": [
        "print(len(X_train_pca))\n",
        "print(len(y))"
      ],
      "execution_count": 107,
      "outputs": [
        {
          "output_type": "stream",
          "text": [
            "984\n",
            "984\n"
          ],
          "name": "stdout"
        }
      ]
    },
    {
      "cell_type": "code",
      "metadata": {
        "id": "XrZP4l1uMO0x"
      },
      "source": [
        "X_train, X_test, y_train, y_test = train_test_split(X_train_pca, y, test_size = 0.66, random_state = 2, shuffle = True, stratify = y)"
      ],
      "execution_count": 108,
      "outputs": []
    },
    {
      "cell_type": "code",
      "metadata": {
        "id": "59dJFM531CBo"
      },
      "source": [
        "# fit the model\n",
        "clf.fit(X_train, y_train.ravel())\n",
        "\n",
        "# prediction for Training data\n",
        "train_pred = clf.predict(X_train)\n",
        "\n",
        "# prediction for Testing data\n",
        "test_pred = clf.predict(X_test)"
      ],
      "execution_count": 109,
      "outputs": []
    },
    {
      "cell_type": "code",
      "metadata": {
        "colab": {
          "base_uri": "https://localhost:8080/",
          "height": 730
        },
        "id": "Wa7cg0E8MiXM",
        "outputId": "cb3f64c2-17fd-438f-c88e-8e69a00b7da4"
      },
      "source": [
        "from sklearn.metrics import confusion_matrix, precision_recall_curve\n",
        "import seaborn as sns\n",
        "LABELS = [\"Fraud\", \"Non-Fraud\"]\n",
        "conf_matrix = confusion_matrix(y_train,train_pred)\n",
        "\n",
        "plt.figure(figsize=(12, 12))\n",
        "sns.heatmap(conf_matrix, xticklabels=LABELS, yticklabels=LABELS, annot=True, fmt=\"d\");\n",
        "plt.title(\"Confusion matrix\")\n",
        "plt.ylabel('True class')\n",
        "plt.xlabel('Predicted class')\n",
        "plt.show()"
      ],
      "execution_count": 110,
      "outputs": [
        {
          "output_type": "display_data",
          "data": {
            "image/png": "[encoded data removed]",
            "text/plain": [
              "<Figure size 864x864 with 2 Axes>"
            ]
          },
          "metadata": {
            "tags": [],
            "needs_background": "light"
          }
        }
      ]
    },
    {
      "cell_type": "code",
      "metadata": {
        "colab": {
          "base_uri": "https://localhost:8080/"
        },
        "id": "JwJVnJykPpN9",
        "outputId": "56f31cb3-bf2c-4bb5-a430-f4090d58795e"
      },
      "source": [
        "print('Accuracy score for Training Dataset = ', accuracy_score(y_train,train_pred)*100)"
      ],
      "execution_count": 111,
      "outputs": [
        {
          "output_type": "stream",
          "text": [
            "Accuracy score for Training Dataset =  89.52095808383234\n"
          ],
          "name": "stdout"
        }
      ]
    },
    {
      "cell_type": "markdown",
      "metadata": {
        "id": "x5lQHSu28gX0"
      },
      "source": [
        "**Naive Bayes**\n",
        "\n",
        "this was chosen using the ski learn cheat sheet \n",
        "\n",
        "\n",
        "\n",
        "\n"
      ]
    },
    {
      "cell_type": "code",
      "metadata": {
        "id": "nRN696r_ls2k"
      },
      "source": [
        "dataNB = shuffle(data2)"
      ],
      "execution_count": 112,
      "outputs": []
    },
    {
      "cell_type": "code",
      "metadata": {
        "id": "QK9v5bOjmuY3"
      },
      "source": [
        "X = np.array(dataNB.loc[:, dataNB.columns != 'Class'])\n",
        "y = np.array(dataNB.loc[:, dataNB.columns == 'Class']).reshape(-1, 1)"
      ],
      "execution_count": 113,
      "outputs": []
    },
    {
      "cell_type": "code",
      "metadata": {
        "id": "vIds_axNB3a8"
      },
      "source": [
        "X_train, X_test, y_train, y_test = train_test_split(X, y, test_size = 0.25, random_state = 2, shuffle = True, stratify = y)"
      ],
      "execution_count": 114,
      "outputs": []
    },
    {
      "cell_type": "code",
      "metadata": {
        "id": "PBKglVByB3X2"
      },
      "source": [
        "#Import Gaussian Naive Bayes model\n",
        "from sklearn.naive_bayes import GaussianNB\n",
        "\n",
        "#Create a Gaussian Classifier\n",
        "gnb = GaussianNB()\n",
        "\n",
        "#Train the model using the training sets\n",
        "gnb.fit(X_train, y_train.ravel())\n",
        "\n",
        "#Predict the response for test dataset\n",
        "y_pred = gnb.predict(X_test)"
      ],
      "execution_count": 115,
      "outputs": []
    },
    {
      "cell_type": "code",
      "metadata": {
        "colab": {
          "base_uri": "https://localhost:8080/"
        },
        "id": "2UrxEe9_B3U0",
        "outputId": "67d0a973-6e9c-41a9-ab8e-0714c3afa89c"
      },
      "source": [
        "print(\"Accuracy:\",accuracy_score(y_test, y_pred))"
      ],
      "execution_count": 116,
      "outputs": [
        {
          "output_type": "stream",
          "text": [
            "Accuracy: 0.8739837398373984\n"
          ],
          "name": "stdout"
        }
      ]
    },
    {
      "cell_type": "code",
      "metadata": {
        "id": "y1nvqPXTB3HG"
      },
      "source": [
        ""
      ],
      "execution_count": 116,
      "outputs": []
    },
    {
      "cell_type": "code",
      "metadata": {
        "id": "_kp7eSDOB3EF"
      },
      "source": [
        ""
      ],
      "execution_count": 116,
      "outputs": []
    },
    {
      "cell_type": "code",
      "metadata": {
        "id": "SRJAYWCPB3AO"
      },
      "source": [
        ""
      ],
      "execution_count": 116,
      "outputs": []
    }
  ]
}